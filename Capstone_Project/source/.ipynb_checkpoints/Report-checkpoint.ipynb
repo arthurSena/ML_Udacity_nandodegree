{
 "cells": [
  {
   "cell_type": "markdown",
   "metadata": {},
   "source": [
    "# Nanodegree Engenheiro de Machine Learning\n",
    "##### Arthur Sena, 01/06/2018\n",
    "\n",
    "<center> <h1>Projeto Final - Relatório </h1></center>"
   ]
  },
  {
   "cell_type": "markdown",
   "metadata": {},
   "source": [
    "### 1) Introdução\n",
    "O cérebro humano é uma das partes mais fascinantes do corpo humano. Ele é o núcleo que controla diversas das nossas ações diárias. Desde às mais complexas, como resolver uma derivada numa prova de cálculo I, até às mais simples, como reconhecer se uma foto contém ou não um cachorro. E é sobre essa ação de reconhecer uma determinada imagem, foto ou retrato que esse projeto se trata. Essa que parece ser uma tarefa simples para nós, seres humanos, não é tão fácil para um computador que apenas enxerga números binários. Ou seja, chegamos a seguinte situação: Como ensinar uma máquina a resolver tal dilema? \n",
    "\n",
    "Isso não é uma tarefa muito simples, por isso que ao longo das últimas décadas, diversos algoritmos e técnicas foram densenvolvidos com o intuito de indentificar e reconhecer padrões em imagens. Assim sendo, esse relatório descreve o densenvolvimento de um modelo de aprendizagem de máquina que utiliza tais técnicas e é capaz de reconhecer imagens de três tipos diferentes de ambientes:\n",
    "   - Urbano: Imagens relacionadas com ambientes de cidades, prédios, casas, etc.\n",
    "   - Natureza: Imagens relacionadas com ambientes de florestas, matas, jardins, etc.\n",
    "   - Praia/Litoral: Imagens realacionadas com praias, mares, areia, etc.\n",
    "\n",
    "É importante ressaltar que o foco desse projeto foi a utilização de algoritmos de Deep Learning, visto que estes apresentam os melhores resultados no campo de reconhecimento de imagem como um todo. Nas seções abaixos, é descrito todos os passos que envolveram o desenvolvimento do melhor modelo encontrado.\n"
   ]
  },
  {
   "cell_type": "markdown",
   "metadata": {},
   "source": [
    "### 2) Dados\n",
    "O primeiro desafio encontrado foi a necessidade de construção de uma base de dados de imagens que contivesse os ambientes que estamos tentando reconhecer. Cada um desses ambientes possue uma determinada peculiaridade, padrão e caracteristica que deve estar presentes na nossa base, pois assim o nosso modelo irá aprendê-lo. Dessa forma, resolvemos utilizar a rede social de fotos mais famosa do mundo conhecida como _Instagram_ como a fonte da nossa base. Para isso, foi criado um _script_ em python que acessou os seguintes perfis :\n",
    "   *  [Perfil-1](https://www.instagram.com/big.cities/) - Urbano\n",
    "   *  [Perfil-2](https://www.instagram.com/beaches_n_resorts/) - Praias\n",
    "   *  [Perfil-3](https://www.instagram.com/forest/) - Natureza\n",
    "\n",
    "O nosso script acessou e coletou cada uma das fotos dos links acima, resultando numa base com **945** imagens, sendo **259** fotos de cidades, **292** de florestas e **394** de praias. Todas essas imagens estão coloridas e apresentam um tamanho de 640x640. "
   ]
  },
  {
   "cell_type": "markdown",
   "metadata": {},
   "source": [
    "### 3) Métricas\n",
    "A fim de avaliar nossos modelos, devemos sempre utilizar algumas métricas de performance. No nosso caso, queremos classificar as fotos em três diferentes classes, dessa forma decidimos usar a Precisão e Recall por label, juntamente com a Acurácia na avaliação. Segue abaixo as métricas:\n",
    "\n",
    "- Pra cada uma das classes, será calculada a precisão e recall seguindo as fórmulas abaixo:\n",
    "\\begin{equation*}\n",
    "    Precision(c) = \\frac{TP(c)}{TP(c)+FP(c)}\n",
    "\\end{equation*}    \n",
    "\n",
    "\\begin{equation*}\n",
    "    Recall(c) = \\frac{TP(c)}{TP(c)+FN(c)}\n",
    "\\end{equation*}  \n",
    "\n",
    "- E a acuŕacia também será considerada na avaliação:\n",
    "\\begin{equation*}\n",
    "    Acc = \\frac{TP + TN}{TP + TN + FP + FN}\n",
    "\\end{equation*}  "
   ]
  },
  {
   "cell_type": "markdown",
   "metadata": {},
   "source": [
    "### 4) Modelo de Benchmark\n",
    "O algoritmo conhecido como [KNN](https://en.wikipedia.org/wiki/K-nearest_neighbors_algorithm) foi escolhido como o modelo de benchmark. A ideia desse algoritmo é utilizar dos \"K\" vizinhos mais próximos de um determinado dado a fim de classificá-lo.\n",
    "\n",
    "#### 4.1) Pré-processamento\n",
    "Antes de aplicar KNN nos dados, algum pré-processamento foi necessário, a fim de transformar as imagens em um formato que possa ser aceito pelo algoritmo. Contudo, é bom lembrar que estamos tentando criar um modelo que possa identificar três diferentes padrões de imagens, ou seja, precisamos processar elas, de forma que realce as diferenças de caracteristicas, o que por sua vez, facilita o aprendizado do modelo. Sabemos que uma imagem pode ser representada como uma matrix de pixels que variam de 0 até 255. Todas as nossas imagens são coloridas e seguem o padrão RGB (Red, Green e Blue), ou seja,  cada imagem é composta por, na verddade, três matrizes de pixels, no qual cada uma remete à uma das três cores. Com isso em mente, uma boa estratégia é usar um histograma de cores de cada imagem como features para o modelo, visto que cada um dos ambientes apresenta uma distribuição particular. \n",
    "\n",
    "**Observação**: O histograma original de cada imagem se tornou dificil de processar utilizando o laptop que se encontra à disposição, pois o mesmo acabava criando um demasiado espaço de features. Por consequência, foi necessário diminuir o tamanho do histograma à partir do aumento dos _bins_ dos mesmos. As imagens abaixo representam a distribuição de cores de cada imagem após tal processamento. Note que cada cor representa uma das cores RGB. Além disso, todas as imagens foram redimensionadas para tamanho **32x32**.\n",
    "\n",
    "<center> <h3> Histograma de cores para imagens urbanas </h3></center>\n",
    "![Drag Racing](images/cities_histogram.pngd)\n",
    "\n",
    "<center> <h3> Histograma de cores para imagens de praias </h3></center>\n",
    "![Drag Racing](images/beaches_histogram.pngd)\n",
    "\n",
    "<center> <h3> Histograma de cores para imagens de florestas </h3></center>\n",
    "![Drag Racing](images/forest_histogram.pngd)\n",
    "\n",
    "Observando os histogramas acima, vemos claramente que as distribuições são, realmente, distinguíveis entre si. \n",
    "\n",
    "#### 4.2) Treinando o modelo de benchmark: KNN\n",
    "O treinamento do KNN usa como entrada a distribuição de cores de cada imagem. Sendo que, foi aplicado um algoritmo conhecido como _grid search_, a fim de encontrar a melhor quantidade de vizinhos a ser considerada quando classificar uma imagem. Além disso, 80% das imagens foram usadas como dados de treino e o resto como teste. O parâmetro *random_split*, também, foi utilizado para caso seja necessário replicar a separação de treino e teste, e, com isso, facilitar a comparação com outros modelos. Os resultados das métricas podem ser visualizados abaixo:\n",
    "\n",
    "- Quantidade de imagens usadas no treino: **756**\n",
    "- Quantidade de imagens usadas no teste:  **189**\n",
    "\n",
    "- Configuração do melhor modelo\n",
    "\n",
    "```python\n",
    "KNeighborsClassifier(algorithm='auto', leaf_size=30, metric='minkowski',\n",
    "           metric_params=None, n_jobs=1, n_neighbors=12, p=2,\n",
    "           weights='uniform')\n",
    "\n",
    "```\n",
    "\n",
    "- Resultados da aplicação do modelo nos dados de teste\n",
    "![Drag Racing](images/benchmark_cm_test.png)\n",
    "\n",
    "![Drag Racing](images/knn_precision_label.png)\n",
    "\n",
    "![Drag Racing](images/knn_recall_label.png)\n",
    "\n",
    "Os resultados acima serão usados como parâmetro para indicar se os outros modelos criados obtiveram ou não sucesso."
   ]
  },
  {
   "cell_type": "markdown",
   "metadata": {},
   "source": [
    "### 5) Deep Learning\n",
    "_Deep learning_ é um conjunto de técnicas e algoritmos que envolve o uso de redes neurais profundas, ou seja, com muitas camadas. Esses tipos de redes neurais ganharam bastante atenção após os seus ótimos desempenhos nos campos de reconhecimento de imagem e voz. Pensando nisso, foi desenvolvido e avaliado duas arquiteturas de modelos _deep learning_ nesse projeto. \n",
    "\n",
    "#### 5.1) Primeira arquitetura\n",
    "- A primeira arquitetura construída e avaliada tinha três camadas _Denses_ com 500, 300 e 100 neurônios cada, seguinda por uma camada _Flatten_ com 102400 neurônios e, por fim, a camada de softmax com 3 neurônios. Tal arquitetura pode ser melhor sumarizada na imagem abaixo.\n",
    "![Drag Racing](images/dl_first_architecture.png)"
   ]
  }
 ],
 "metadata": {
  "kernelspec": {
   "display_name": "Python 2",
   "language": "python",
   "name": "python2"
  },
  "language_info": {
   "codemirror_mode": {
    "name": "ipython",
    "version": 2
   },
   "file_extension": ".py",
   "mimetype": "text/x-python",
   "name": "python",
   "nbconvert_exporter": "python",
   "pygments_lexer": "ipython2",
   "version": "2.7.12"
  }
 },
 "nbformat": 4,
 "nbformat_minor": 0
}
