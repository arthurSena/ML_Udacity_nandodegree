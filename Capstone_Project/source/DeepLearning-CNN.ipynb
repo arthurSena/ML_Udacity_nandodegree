{
 "cells": [
  {
   "cell_type": "code",
   "execution_count": 1,
   "metadata": {
    "collapsed": false
   },
   "outputs": [
    {
     "name": "stderr",
     "output_type": "stream",
     "text": [
      "Using TensorFlow backend.\n"
     ]
    }
   ],
   "source": [
    "'''\n",
    "- The model described in the Report.pdf file was created using the below seeds. Thus, if you want to \n",
    "reproduce the same model use the same seed.\n",
    "'''\n",
    "import numpy as np\n",
    "import tensorflow as tf\n",
    "import random as rn\n",
    "\n",
    "import os\n",
    "os.environ['PYTHONHASHSEED'] = '0'\n",
    "\n",
    "np.random.seed(5)\n",
    "\n",
    "rn.seed(6)\n",
    "\n",
    "session_conf = tf.ConfigProto(intra_op_parallelism_threads=1, inter_op_parallelism_threads=1)\n",
    "\n",
    "from keras import backend as K\n",
    "\n",
    "tf.set_random_seed(7)\n",
    "\n",
    "sess = tf.Session(graph=tf.get_default_graph(), config=session_conf)\n",
    "K.set_session(sess)"
   ]
  },
  {
   "cell_type": "code",
   "execution_count": 2,
   "metadata": {
    "collapsed": false
   },
   "outputs": [
    {
     "name": "stderr",
     "output_type": "stream",
     "text": [
      "/usr/lib/python2.7/dist-packages/matplotlib/font_manager.py:273: UserWarning: Matplotlib is building the font cache using fc-list. This may take a moment.\n",
      "  warnings.warn('Matplotlib is building the font cache using fc-list. This may take a moment.')\n"
     ]
    }
   ],
   "source": [
    "'''\n",
    "- Importing libraries\n",
    "'''\n",
    "\n",
    "from PIL import Image\n",
    "import os\n",
    "import pandas as pd\n",
    "from sklearn.cross_validation import train_test_split\n",
    "from sklearn.metrics import confusion_matrix\n",
    "from plot_confusion_matrix import plot_confusion_matrix\n",
    "import matplotlib.pyplot as plt"
   ]
  },
  {
   "cell_type": "code",
   "execution_count": 3,
   "metadata": {
    "collapsed": false
   },
   "outputs": [],
   "source": [
    "'''\n",
    "- Importing Images\n",
    "'''\n",
    "from os import listdir\n",
    "from os.path import isfile, join\n",
    "\n",
    "\n",
    "BIG_CITIES = \"big.cities/\"\n",
    "BEACHES = \"beaches_n_resorts/\"\n",
    "FOREST = \"forest/\"\n",
    "\n",
    "data_path = os.getcwd()[:-6] + 'Data/'\n",
    "\n",
    "big_cities_path = data_path + BIG_CITIES\n",
    "forest_path = data_path + FOREST\n",
    "beaches_path = data_path + BEACHES\n",
    "\n",
    "big_cities_images = [Image.open(big_cities_path+img).resize((32,32),Image.ANTIALIAS)\n",
    "                         for img in listdir(big_cities_path)\n",
    "                             if Image.open(big_cities_path+img).size == (640,640)]\n",
    "\n",
    "forest_images = [Image.open(forest_path+img).resize((32,32), Image.ANTIALIAS)\n",
    "                         for img in listdir(forest_path)\n",
    "                             if Image.open(forest_path+img).size == (640,640)]\n",
    "\n",
    "beaches_images = [Image.open(beaches_path+img).resize((32,32), Image.ANTIALIAS)\n",
    "                         for img in listdir(beaches_path)\n",
    "                             if Image.open(beaches_path+img).size == (640,640)]"
   ]
  },
  {
   "cell_type": "code",
   "execution_count": 4,
   "metadata": {
    "collapsed": false
   },
   "outputs": [],
   "source": [
    "'''\n",
    "- Scaling all the values between 0 and 1. For that, we just need to divide each pixel by 255.\n",
    "'''\n",
    "big_cities_images = [np.asarray(i)/255. for i in big_cities_images]\n",
    "forest_images = [np.asarray(i)/255. for i in forest_images]\n",
    "beaches_images = [np.asarray(i)/255. for i in beaches_images]"
   ]
  },
  {
   "cell_type": "code",
   "execution_count": 5,
   "metadata": {
    "collapsed": false
   },
   "outputs": [],
   "source": [
    "'''\n",
    "-Creating our label\n",
    "'''\n",
    "big_cities_label = [0 for i in range(len(big_cities_images))]\n",
    "forest_label = [1 for i in range(len(forest_images))]\n",
    "beaches_label = [2 for i in range(len(beaches_images))]"
   ]
  },
  {
   "cell_type": "code",
   "execution_count": 6,
   "metadata": {
    "collapsed": false
   },
   "outputs": [],
   "source": [
    "'''\n",
    "- Going to Pandas dataframe\n",
    "'''\n",
    "data = pd.DataFrame({\"Features\": big_cities_images + forest_images + beaches_images,\n",
    "                     \"Label\"   : big_cities_label+ forest_label + beaches_label\n",
    "                    })\n",
    "\n",
    "X_all = list(data[\"Features\"])\n",
    "y_all = list(data[\"Label\"])"
   ]
  },
  {
   "cell_type": "code",
   "execution_count": 7,
   "metadata": {
    "collapsed": true
   },
   "outputs": [],
   "source": [
    "'''\n",
    "- Splitting into train and test datasets\n",
    "'''\n",
    "X_train, X_test, y_train, y_test = train_test_split(X_all, y_all, test_size=0.2, random_state=11)"
   ]
  },
  {
   "cell_type": "code",
   "execution_count": 8,
   "metadata": {
    "collapsed": false
   },
   "outputs": [],
   "source": [
    "'''\n",
    "-Creating our model\n",
    "'''\n",
    "\n",
    "from keras.models import Sequential\n",
    "from keras.layers import Dense, Flatten, Conv2D, MaxPooling2D\n",
    "model = Sequential()\n",
    "\n",
    "model.add(Conv2D(filters=16,\n",
    "                 kernel_size=2, \n",
    "                 padding='same', \n",
    "                 activation='relu',\n",
    "                 input_shape=(32, 32, 3)))\n",
    "model.add(MaxPooling2D(pool_size=2))\n",
    "\n",
    "\n",
    "model.add(Conv2D(filters=32,\n",
    "                 kernel_size=2, \n",
    "                 padding='same', \n",
    "                 activation='relu'\n",
    "                 ))\n",
    "model.add(MaxPooling2D(pool_size=2))\n",
    "\n",
    "model.add(Conv2D(filters=64,\n",
    "                 kernel_size=2, \n",
    "                 padding='same', \n",
    "                 activation='relu'\n",
    "                 ))\n",
    "model.add(MaxPooling2D(pool_size=2))\n",
    "\n",
    "model.add(Flatten())\n",
    "model.add(Dense(units=500,activation=\"relu\"))\n",
    "model.add(Dense(units=3,activation=\"softmax\"))\n"
   ]
  },
  {
   "cell_type": "code",
   "execution_count": null,
   "metadata": {
    "collapsed": false,
    "scrolled": true
   },
   "outputs": [
    {
     "name": "stdout",
     "output_type": "stream",
     "text": [
      "_________________________________________________________________\n",
      "Layer (type)                 Output Shape              Param #   \n",
      "=================================================================\n",
      "conv2d_1 (Conv2D)            (None, 32, 32, 16)        208       \n",
      "_________________________________________________________________\n",
      "max_pooling2d_1 (MaxPooling2 (None, 16, 16, 16)        0         \n",
      "_________________________________________________________________\n",
      "conv2d_2 (Conv2D)            (None, 16, 16, 32)        2080      \n",
      "_________________________________________________________________\n",
      "max_pooling2d_2 (MaxPooling2 (None, 8, 8, 32)          0         \n",
      "_________________________________________________________________\n",
      "conv2d_3 (Conv2D)            (None, 8, 8, 64)          8256      \n",
      "_________________________________________________________________\n",
      "max_pooling2d_3 (MaxPooling2 (None, 4, 4, 64)          0         \n",
      "_________________________________________________________________\n",
      "flatten_1 (Flatten)          (None, 1024)              0         \n",
      "_________________________________________________________________\n",
      "dense_1 (Dense)              (None, 500)               512500    \n",
      "_________________________________________________________________\n",
      "dense_2 (Dense)              (None, 3)                 1503      \n",
      "=================================================================\n",
      "Total params: 524,547\n",
      "Trainable params: 524,547\n",
      "Non-trainable params: 0\n",
      "_________________________________________________________________\n",
      "Train on 756 samples, validate on 189 samples\n",
      "Epoch 1/80\n",
      " - 3s - loss: 1.0651 - acc: 0.4008 - val_loss: 1.0445 - val_acc: 0.4180\n",
      "Epoch 2/80\n",
      " - 2s - loss: 1.0223 - acc: 0.4167 - val_loss: 1.0113 - val_acc: 0.4233\n",
      "Epoch 3/80\n",
      " - 2s - loss: 0.9760 - acc: 0.4947 - val_loss: 0.9663 - val_acc: 0.5185\n",
      "Epoch 4/80\n",
      " - 2s - loss: 0.9192 - acc: 0.5833 - val_loss: 0.9205 - val_acc: 0.5979\n",
      "Epoch 5/80\n",
      " - 2s - loss: 0.8663 - acc: 0.6323 - val_loss: 0.8856 - val_acc: 0.5926\n",
      "Epoch 6/80\n",
      " - 2s - loss: 0.8293 - acc: 0.6296 - val_loss: 0.8642 - val_acc: 0.6085\n",
      "Epoch 7/80\n",
      " - 2s - loss: 0.8056 - acc: 0.6349 - val_loss: 0.8484 - val_acc: 0.6138\n",
      "Epoch 8/80\n",
      " - 2s - loss: 0.7888 - acc: 0.6362 - val_loss: 0.8375 - val_acc: 0.6138\n",
      "Epoch 9/80\n",
      " - 2s - loss: 0.7757 - acc: 0.6389 - val_loss: 0.8278 - val_acc: 0.6190\n",
      "Epoch 10/80\n",
      " - 3s - loss: 0.7646 - acc: 0.6468 - val_loss: 0.8191 - val_acc: 0.6190\n",
      "Epoch 11/80\n",
      " - 2s - loss: 0.7547 - acc: 0.6521 - val_loss: 0.8120 - val_acc: 0.6190\n",
      "Epoch 12/80\n",
      " - 2s - loss: 0.7457 - acc: 0.6614 - val_loss: 0.8054 - val_acc: 0.6190\n",
      "Epoch 13/80\n",
      " - 2s - loss: 0.7371 - acc: 0.6706 - val_loss: 0.7990 - val_acc: 0.6402\n",
      "Epoch 14/80\n",
      " - 2s - loss: 0.7284 - acc: 0.6786 - val_loss: 0.7923 - val_acc: 0.6455\n",
      "Epoch 15/80\n",
      " - 2s - loss: 0.7196 - acc: 0.6799 - val_loss: 0.7844 - val_acc: 0.6455\n",
      "Epoch 16/80\n",
      " - 2s - loss: 0.7102 - acc: 0.6799 - val_loss: 0.7760 - val_acc: 0.6455\n",
      "Epoch 17/80\n",
      " - 2s - loss: 0.7003 - acc: 0.6878 - val_loss: 0.7669 - val_acc: 0.6508\n",
      "Epoch 18/80\n",
      " - 2s - loss: 0.6897 - acc: 0.6931 - val_loss: 0.7552 - val_acc: 0.6720\n",
      "Epoch 19/80\n",
      " - 2s - loss: 0.6776 - acc: 0.6944 - val_loss: 0.7413 - val_acc: 0.6720\n",
      "Epoch 20/80\n",
      " - 2s - loss: 0.6653 - acc: 0.6984 - val_loss: 0.7279 - val_acc: 0.6825\n",
      "Epoch 21/80\n",
      " - 2s - loss: 0.6532 - acc: 0.7077 - val_loss: 0.7150 - val_acc: 0.6931\n",
      "Epoch 22/80\n",
      " - 2s - loss: 0.6417 - acc: 0.7143 - val_loss: 0.7027 - val_acc: 0.6931\n",
      "Epoch 23/80\n",
      " - 2s - loss: 0.6296 - acc: 0.7183 - val_loss: 0.6904 - val_acc: 0.6984\n",
      "Epoch 24/80\n",
      " - 2s - loss: 0.6182 - acc: 0.7235 - val_loss: 0.6790 - val_acc: 0.7143\n",
      "Epoch 25/80\n",
      " - 2s - loss: 0.6072 - acc: 0.7275 - val_loss: 0.6677 - val_acc: 0.7249\n",
      "Epoch 26/80\n",
      " - 2s - loss: 0.5964 - acc: 0.7341 - val_loss: 0.6572 - val_acc: 0.7354\n",
      "Epoch 27/80\n",
      " - 2s - loss: 0.5856 - acc: 0.7434 - val_loss: 0.6467 - val_acc: 0.7460\n",
      "Epoch 28/80\n",
      " - 2s - loss: 0.5750 - acc: 0.7487 - val_loss: 0.6374 - val_acc: 0.7566\n",
      "Epoch 29/80\n",
      " - 2s - loss: 0.5648 - acc: 0.7553 - val_loss: 0.6280 - val_acc: 0.7566\n",
      "Epoch 30/80\n",
      " - 2s - loss: 0.5549 - acc: 0.7632 - val_loss: 0.6203 - val_acc: 0.7672\n",
      "Epoch 31/80\n",
      " - 2s - loss: 0.5455 - acc: 0.7698 - val_loss: 0.6126 - val_acc: 0.7725\n",
      "Epoch 32/80\n",
      " - 2s - loss: 0.5363 - acc: 0.7751 - val_loss: 0.6053 - val_acc: 0.7672\n",
      "Epoch 33/80\n",
      " - 2s - loss: 0.5270 - acc: 0.7804 - val_loss: 0.5996 - val_acc: 0.7725\n",
      "Epoch 34/80\n",
      " - 2s - loss: 0.5182 - acc: 0.7857 - val_loss: 0.5933 - val_acc: 0.7778\n",
      "Epoch 35/80\n",
      " - 2s - loss: 0.5087 - acc: 0.7884 - val_loss: 0.5880 - val_acc: 0.7778\n",
      "Epoch 36/80\n",
      " - 2s - loss: 0.4997 - acc: 0.7910 - val_loss: 0.5809 - val_acc: 0.7831\n",
      "Epoch 37/80\n",
      " - 2s - loss: 0.4908 - acc: 0.7976 - val_loss: 0.5753 - val_acc: 0.7884\n",
      "Epoch 38/80\n",
      " - 2s - loss: 0.4824 - acc: 0.8016 - val_loss: 0.5700 - val_acc: 0.7831\n",
      "Epoch 39/80\n",
      " - 2s - loss: 0.4741 - acc: 0.8108 - val_loss: 0.5649 - val_acc: 0.7884\n",
      "Epoch 40/80\n",
      " - 2s - loss: 0.4658 - acc: 0.8122 - val_loss: 0.5579 - val_acc: 0.7884\n",
      "Epoch 41/80\n",
      " - 2s - loss: 0.4572 - acc: 0.8161 - val_loss: 0.5541 - val_acc: 0.7884\n",
      "Epoch 42/80\n",
      " - 2s - loss: 0.4490 - acc: 0.8175 - val_loss: 0.5477 - val_acc: 0.7884\n",
      "Epoch 43/80\n",
      " - 2s - loss: 0.4409 - acc: 0.8254 - val_loss: 0.5427 - val_acc: 0.7937\n",
      "Epoch 44/80\n",
      " - 2s - loss: 0.4327 - acc: 0.8254 - val_loss: 0.5374 - val_acc: 0.8095\n",
      "Epoch 45/80\n",
      " - 2s - loss: 0.4247 - acc: 0.8307 - val_loss: 0.5329 - val_acc: 0.8095\n",
      "Epoch 46/80\n",
      " - 2s - loss: 0.4165 - acc: 0.8373 - val_loss: 0.5277 - val_acc: 0.8042\n",
      "Epoch 47/80\n",
      " - 2s - loss: 0.4087 - acc: 0.8413 - val_loss: 0.5236 - val_acc: 0.8042\n",
      "Epoch 48/80\n",
      " - 2s - loss: 0.4007 - acc: 0.8466 - val_loss: 0.5193 - val_acc: 0.8042\n",
      "Epoch 49/80\n",
      " - 2s - loss: 0.3930 - acc: 0.8519 - val_loss: 0.5167 - val_acc: 0.8042\n",
      "Epoch 50/80\n",
      " - 2s - loss: 0.3847 - acc: 0.8571 - val_loss: 0.5134 - val_acc: 0.8148\n",
      "Epoch 51/80\n",
      " - 2s - loss: 0.3764 - acc: 0.8598 - val_loss: 0.5082 - val_acc: 0.8148\n",
      "Epoch 52/80\n",
      " - 2s - loss: 0.3689 - acc: 0.8598 - val_loss: 0.5060 - val_acc: 0.8095\n",
      "Epoch 53/80\n",
      " - 2s - loss: 0.3603 - acc: 0.8664 - val_loss: 0.4981 - val_acc: 0.8148\n",
      "Epoch 54/80\n",
      " - 2s - loss: 0.3523 - acc: 0.8704 - val_loss: 0.4939 - val_acc: 0.8148\n",
      "Epoch 55/80\n",
      " - 2s - loss: 0.3443 - acc: 0.8730 - val_loss: 0.4910 - val_acc: 0.8201\n",
      "Epoch 56/80\n",
      " - 2s - loss: 0.3364 - acc: 0.8783 - val_loss: 0.4880 - val_acc: 0.8201\n",
      "Epoch 57/80\n",
      " - 2s - loss: 0.3280 - acc: 0.8783 - val_loss: 0.4816 - val_acc: 0.8254\n",
      "Epoch 58/80\n",
      " - 2s - loss: 0.3197 - acc: 0.8836 - val_loss: 0.4785 - val_acc: 0.8254\n",
      "Epoch 59/80\n",
      " - 2s - loss: 0.3110 - acc: 0.8849 - val_loss: 0.4748 - val_acc: 0.8307\n",
      "Epoch 60/80\n",
      " - 2s - loss: 0.3030 - acc: 0.8902 - val_loss: 0.4733 - val_acc: 0.8254\n",
      "Epoch 61/80\n",
      " - 2s - loss: 0.2944 - acc: 0.8915 - val_loss: 0.4688 - val_acc: 0.8307\n",
      "Epoch 62/80\n",
      " - 2s - loss: 0.2854 - acc: 0.8955 - val_loss: 0.4634 - val_acc: 0.8307\n",
      "Epoch 63/80\n",
      " - 2s - loss: 0.2764 - acc: 0.9008 - val_loss: 0.4593 - val_acc: 0.8307\n",
      "Epoch 64/80\n",
      " - 2s - loss: 0.2679 - acc: 0.9021 - val_loss: 0.4548 - val_acc: 0.8254\n",
      "Epoch 65/80\n",
      " - 2s - loss: 0.2594 - acc: 0.9061 - val_loss: 0.4515 - val_acc: 0.8254\n",
      "Epoch 66/80\n",
      " - 2s - loss: 0.2500 - acc: 0.9101 - val_loss: 0.4473 - val_acc: 0.8307\n",
      "Epoch 67/80\n",
      " - 2s - loss: 0.2413 - acc: 0.9167 - val_loss: 0.4429 - val_acc: 0.8360\n",
      "Epoch 68/80\n",
      " - 2s - loss: 0.2322 - acc: 0.9206 - val_loss: 0.4460 - val_acc: 0.8201\n",
      "Epoch 69/80\n",
      " - 2s - loss: 0.2241 - acc: 0.9246 - val_loss: 0.4400 - val_acc: 0.8307\n",
      "Epoch 70/80\n",
      " - 2s - loss: 0.2148 - acc: 0.9272 - val_loss: 0.4359 - val_acc: 0.8254\n",
      "Epoch 71/80\n",
      " - 2s - loss: 0.2063 - acc: 0.9312 - val_loss: 0.4369 - val_acc: 0.8307\n",
      "Epoch 72/80\n",
      " - 2s - loss: 0.1986 - acc: 0.9325 - val_loss: 0.4424 - val_acc: 0.8307\n",
      "Epoch 73/80\n",
      " - 2s - loss: 0.1900 - acc: 0.9365 - val_loss: 0.4440 - val_acc: 0.8360\n",
      "Epoch 74/80\n",
      " - 2s - loss: 0.1827 - acc: 0.9405 - val_loss: 0.4495 - val_acc: 0.8254\n",
      "Epoch 75/80\n",
      " - 2s - loss: 0.1752 - acc: 0.9431 - val_loss: 0.4487 - val_acc: 0.8413\n",
      "Epoch 76/80\n",
      " - 2s - loss: 0.1682 - acc: 0.9458 - val_loss: 0.4541 - val_acc: 0.8360\n",
      "Epoch 77/80\n",
      " - 2s - loss: 0.1607 - acc: 0.9484 - val_loss: 0.4660 - val_acc: 0.8254\n",
      "Epoch 78/80\n",
      " - 2s - loss: 0.1549 - acc: 0.9524 - val_loss: 0.4635 - val_acc: 0.8307\n",
      "Epoch 79/80\n",
      " - 2s - loss: 0.1479 - acc: 0.9550 - val_loss: 0.4594 - val_acc: 0.8307\n",
      "Epoch 80/80\n",
      " - 2s - loss: 0.1387 - acc: 0.9590 - val_loss: 0.4715 - val_acc: 0.8360\n"
     ]
    }
   ],
   "source": [
    "'''\n",
    "- Train our model\n",
    "'''\n",
    "\n",
    "from keras.utils import to_categorical\n",
    "from keras import optimizers\n",
    "\n",
    "sgd = optimizers.SGD()\n",
    "\n",
    "model.compile(loss=\"categorical_crossentropy\",  optimizer=sgd, metrics=['acc'])\n",
    "\n",
    "model.summary()\n",
    "\n",
    "history = model.fit(np.asarray(X_train), \n",
    "                      to_categorical(y_train), \n",
    "                      epochs=80, \n",
    "                      verbose=2, \n",
    "                      batch_size=12,\n",
    "                      shuffle=False,\n",
    "                      validation_data=(np.asarray(X_test), to_categorical(y_test))) "
   ]
  },
  {
   "cell_type": "code",
   "execution_count": null,
   "metadata": {
    "collapsed": false
   },
   "outputs": [],
   "source": [
    "'''\n",
    "- Plotting loss and accuracy over the train epochs\n",
    "'''\n",
    "import matplotlib.pyplot as plt\n",
    "plt.plot(history.history['loss'], label=\"train loss\")\n",
    "plt.plot(history.history['val_loss'],label=\"val loss\")\n",
    "plt.legend()\n",
    "plt.ylabel('Loss')\n",
    "plt.xlabel('Iteration')\n",
    "plt.show()"
   ]
  },
  {
   "cell_type": "code",
   "execution_count": null,
   "metadata": {
    "collapsed": false
   },
   "outputs": [],
   "source": [
    "'''\n",
    "- Applying model to the train dataset\n",
    "'''\n",
    "pred=model.predict_classes(np.asarray(X_train))\n",
    "cm=confusion_matrix(y_train, pred)\n",
    "\n",
    "acc = int(sum(cm.diagonal())/float(len(X_train))*100)\n",
    "plot_confusion_matrix(cm, classes=[\"big_cities\", \"forest\", \"beaches\"],\n",
    "                      title='Confusion matrix, Accuracy: {}%'.format(acc))\n",
    "plt.show()"
   ]
  },
  {
   "cell_type": "code",
   "execution_count": null,
   "metadata": {
    "collapsed": false
   },
   "outputs": [],
   "source": [
    "print \"Accuracy in Train: \", sum(cm.diagonal())/float(len(X_train))"
   ]
  },
  {
   "cell_type": "code",
   "execution_count": null,
   "metadata": {
    "collapsed": false
   },
   "outputs": [],
   "source": [
    "'''\n",
    "- Applying model to the test dataset\n",
    "'''\n",
    "\n",
    "pred=model.predict_classes(np.asarray(X_test))\n",
    "cm=confusion_matrix(y_test, pred)\n",
    "test_acc = int(sum(cm.diagonal())/float(len(X_test))*100)\n",
    "plot_confusion_matrix(cm, classes=[\"big_cities\", \"forest\", \"beaches\"],\n",
    "                      title='Confusion matrix, Accuracy: {}%'.format(test_acc))\n",
    "plt.show()"
   ]
  },
  {
   "cell_type": "code",
   "execution_count": null,
   "metadata": {
    "collapsed": false
   },
   "outputs": [],
   "source": [
    "print \"Accuracy in Test: \", sum(cm.diagonal())/float(len(X_test))"
   ]
  },
  {
   "cell_type": "code",
   "execution_count": null,
   "metadata": {
    "collapsed": true
   },
   "outputs": [],
   "source": [
    "'''\n",
    "- Ploting Recall by label\n",
    "'''\n",
    "recall_array = [float(cm[i][z])/sum(cm[i]) for i in xrange(len(cm)) for z in xrange(len(cm)) if i == z]\n",
    "fig, ax = plt.subplots()   \n",
    "barlist=plt.bar(range(3), recall_array)\n",
    "\n",
    "\n",
    "axes = plt.gca()\n",
    "axes.set_ylim([0.,1])\n",
    "\n",
    "barlist[0].set_color('grey')\n",
    "barlist[1].set_color('green')\n",
    "barlist[2].set_color('blue')\n",
    "plt.xticks([.5,1.5,2.5], [\"Urbano\", \"Floresta\", \"Praias\"])\n",
    "plt.title(\"Recall by label\")\n",
    "\n",
    "temp = 0\n",
    "for rect in barlist:\n",
    "    height = rect.get_height()\n",
    "    plt.text(rect.get_x() + rect.get_width()/2.0, height, round(recall_array[temp],2), ha='center', va='bottom')\n",
    "    temp += 1\n",
    "\n",
    "plt.show()"
   ]
  },
  {
   "cell_type": "code",
   "execution_count": null,
   "metadata": {
    "collapsed": true
   },
   "outputs": [],
   "source": [
    "'''\n",
    "- Ploting Precision by label\n",
    "'''\n",
    "precision_array = [float(cm[i][z])/sum(cm)[i] for i in xrange(len(cm)) for z in xrange(len(cm)) if i == z]\n",
    "barlist=plt.bar(range(3), precision_array)\n",
    "barlist[0].set_color('grey')\n",
    "barlist[1].set_color('green')\n",
    "barlist[2].set_color('blue')\n",
    "plt.xticks([.5,1.5,2.5], [\"Urbano\", \"Floresta\", \"Praias\"])\n",
    "axes = plt.gca()\n",
    "axes.set_ylim([0.,1.])\n",
    "plt.title(\"Precision by label\")\n",
    "\n",
    "temp = 0\n",
    "for rect in barlist:\n",
    "    height = rect.get_height()\n",
    "    plt.text(rect.get_x() + rect.get_width()/2.0, height, round(precision_array[temp],2), ha='center', va='bottom')\n",
    "    temp += 1\n",
    "plt.show()"
   ]
  },
  {
   "cell_type": "code",
   "execution_count": null,
   "metadata": {
    "collapsed": false
   },
   "outputs": [],
   "source": [
    "'''\n",
    "- Saving model\n",
    "'''\n",
    "model.save(\"models/dl_second_architecture.h5\")"
   ]
  }
 ],
 "metadata": {
  "kernelspec": {
   "display_name": "Python 2",
   "language": "python",
   "name": "python2"
  },
  "language_info": {
   "codemirror_mode": {
    "name": "ipython",
    "version": 2
   },
   "file_extension": ".py",
   "mimetype": "text/x-python",
   "name": "python",
   "nbconvert_exporter": "python",
   "pygments_lexer": "ipython2",
   "version": "2.7.12"
  }
 },
 "nbformat": 4,
 "nbformat_minor": 0
}
