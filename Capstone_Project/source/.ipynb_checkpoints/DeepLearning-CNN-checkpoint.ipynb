{
 "cells": [
  {
   "cell_type": "code",
   "execution_count": 2,
   "metadata": {
    "collapsed": false
   },
   "outputs": [],
   "source": [
    "import numpy as np\n",
    "from PIL import Image\n",
    "from sklearn.neighbors import KNeighborsClassifier\n",
    "import os\n",
    "import pandas as pd\n",
    "from sklearn.cross_validation import train_test_split\n",
    "from sklearn.metrics import confusion_matrix\n",
    "from plot_confusion_matrix import plot_confusion_matrix\n",
    "import matplotlib.pyplot as plt\n",
    "from keras.preprocessing.image import img_to_array"
   ]
  },
  {
   "cell_type": "code",
   "execution_count": 40,
   "metadata": {
    "collapsed": false
   },
   "outputs": [],
   "source": [
    "# from os import listdir\n",
    "# from os.path import isfile, join\n",
    "\n",
    "\n",
    "# BIG_CITIES = \"big.cities/\"\n",
    "# BEACHES = \"beaches_n_resorts/\"\n",
    "# FOREST = \"forest/\"\n",
    "\n",
    "# data_path = os.getcwd()[:-6] + 'Data/'\n",
    "\n",
    "# big_cities_path = data_path + BIG_CITIES\n",
    "# forest_path = data_path + FOREST\n",
    "# beaches_path = data_path + BEACHES\n",
    "\n",
    "# big_cities_images = [img_to_array(Image.open(big_cities_path+img))/255.0 \n",
    "#                          for img in listdir(big_cities_path)\n",
    "#                              if Image.open(big_cities_path+img).size == (640,640)]\n",
    "\n",
    "# forest_images = [img_to_array(Image.open(forest_path+img))/255.0 \n",
    "#                          for img in listdir(forest_path)\n",
    "#                              if Image.open(forest_path+img).size == (640,640)]\n",
    "\n",
    "# beaches_images = [img_to_array(Image.open(beaches_path+img))/255.0 \n",
    "#                          for img in listdir(beaches_path)\n",
    "#                              if Image.open(beaches_path+img).size == (640,640)]\n",
    "\n",
    "from os import listdir\n",
    "from os.path import isfile, join\n",
    "\n",
    "\n",
    "BIG_CITIES = \"big.cities/\"\n",
    "BEACHES = \"beaches_n_resorts/\"\n",
    "FOREST = \"forest/\"\n",
    "\n",
    "data_path = os.getcwd()[:-6] + 'Data/'\n",
    "\n",
    "big_cities_path = data_path + BIG_CITIES\n",
    "forest_path = data_path + FOREST\n",
    "beaches_path = data_path + BEACHES\n",
    "\n",
    "big_cities_images = [Image.open(big_cities_path+img).resize((28,28),Image.ANTIALIAS)\n",
    "                         for img in listdir(big_cities_path)\n",
    "                             if Image.open(big_cities_path+img).size == (640,640)]\n",
    "\n",
    "forest_images = [Image.open(forest_path+img).resize((28,28), Image.ANTIALIAS)\n",
    "                         for img in listdir(forest_path)\n",
    "                             if Image.open(forest_path+img).size == (640,640)]\n",
    "\n",
    "beaches_images = [Image.open(beaches_path+img).resize((28,28), Image.ANTIALIAS)\n",
    "                         for img in listdir(beaches_path)\n",
    "                             if Image.open(beaches_path+img).size == (640,640)]"
   ]
  },
  {
   "cell_type": "code",
   "execution_count": 41,
   "metadata": {
    "collapsed": false
   },
   "outputs": [],
   "source": [
    "big_cities_images = [np.asarray(i)/255. for i in big_cities_images]\n",
    "forest_images = [np.asarray(i)/255. for i in forest_images]\n",
    "beaches_images = [np.asarray(i)/255. for i in beaches_images]"
   ]
  },
  {
   "cell_type": "code",
   "execution_count": 42,
   "metadata": {
    "collapsed": false
   },
   "outputs": [
    {
     "data": {
      "text/plain": [
       "259"
      ]
     },
     "execution_count": 42,
     "metadata": {},
     "output_type": "execute_result"
    }
   ],
   "source": [
    "len(big_cities_images)"
   ]
  },
  {
   "cell_type": "code",
   "execution_count": 43,
   "metadata": {
    "collapsed": false
   },
   "outputs": [],
   "source": [
    "big_cities_label = [0 for i in range(len(big_cities_images))]\n",
    "forest_label = [1 for i in range(len(forest_images))]\n",
    "beaches_label = [2 for i in range(len(beaches_images))]"
   ]
  },
  {
   "cell_type": "code",
   "execution_count": 44,
   "metadata": {
    "collapsed": false
   },
   "outputs": [],
   "source": [
    "data = pd.DataFrame({\"Features\": big_cities_images + forest_images + beaches_images,\n",
    "                     \"Label\"   : big_cities_label+ forest_label + beaches_label\n",
    "                    })\n",
    "\n",
    "X_all = list(data[\"Features\"])\n",
    "y_all = list(data[\"Label\"])"
   ]
  },
  {
   "cell_type": "code",
   "execution_count": 45,
   "metadata": {
    "collapsed": true
   },
   "outputs": [],
   "source": [
    "X_train, X_test, y_train, y_test = train_test_split(X_all, y_all, test_size=0.2, random_state=11)"
   ]
  },
  {
   "cell_type": "code",
   "execution_count": 46,
   "metadata": {
    "collapsed": false,
    "scrolled": true
   },
   "outputs": [
    {
     "data": {
      "text/plain": [
       "(756, 28, 28, 3)"
      ]
     },
     "execution_count": 46,
     "metadata": {},
     "output_type": "execute_result"
    }
   ],
   "source": [
    "np.asarray(X_train).shape"
   ]
  },
  {
   "cell_type": "code",
   "execution_count": 83,
   "metadata": {
    "collapsed": false
   },
   "outputs": [],
   "source": [
    "from keras.models import Sequential\n",
    "from keras.layers import Dense, Flatten\n",
    "model = Sequential()\n",
    "model.add(Dense(units=128,activation=\"relu\",input_shape=(28,28,3)))\n",
    "model.add(Dense(units=128,activation=\"relu\",input_shape=(28,28,3)))\n",
    "model.add(Dense(units=128,activation=\"relu\",input_shape=(28,28,3)))\n",
    "model.add(Flatten())\n",
    "\n",
    "model.add(Dense(units=3,activation=\"softmax\"))\n"
   ]
  },
  {
   "cell_type": "code",
   "execution_count": 70,
   "metadata": {
    "collapsed": false,
    "scrolled": false
   },
   "outputs": [
    {
     "name": "stdout",
     "output_type": "stream",
     "text": [
      "_________________________________________________________________\n",
      "Layer (type)                 Output Shape              Param #   \n",
      "=================================================================\n",
      "dense_17 (Dense)             (None, 28, 28, 128)       512       \n",
      "_________________________________________________________________\n",
      "dense_18 (Dense)             (None, 28, 28, 128)       16512     \n",
      "_________________________________________________________________\n",
      "dense_19 (Dense)             (None, 28, 28, 128)       16512     \n",
      "_________________________________________________________________\n",
      "flatten_6 (Flatten)          (None, 100352)            0         \n",
      "_________________________________________________________________\n",
      "dense_20 (Dense)             (None, 3)                 301059    \n",
      "=================================================================\n",
      "Total params: 334,595\n",
      "Trainable params: 334,595\n",
      "Non-trainable params: 0\n",
      "_________________________________________________________________\n",
      "Train on 756 samples, validate on 189 samples\n",
      "Epoch 1/80\n",
      "756/756 [==============================] - 6s 8ms/step - loss: 0.9475 - acc: 0.5212 - val_loss: 0.8394 - val_acc: 0.6402\n",
      "Epoch 2/80\n",
      "756/756 [==============================] - 6s 8ms/step - loss: 0.7910 - acc: 0.6402 - val_loss: 0.9369 - val_acc: 0.5661\n",
      "Epoch 3/80\n",
      "756/756 [==============================] - 6s 8ms/step - loss: 0.7495 - acc: 0.6746 - val_loss: 0.7272 - val_acc: 0.6772\n",
      "Epoch 4/80\n",
      "756/756 [==============================] - 6s 8ms/step - loss: 0.7165 - acc: 0.6958 - val_loss: 0.7058 - val_acc: 0.7037\n",
      "Epoch 5/80\n",
      "756/756 [==============================] - 6s 8ms/step - loss: 0.7006 - acc: 0.7011 - val_loss: 0.6874 - val_acc: 0.7090\n",
      "Epoch 6/80\n",
      "756/756 [==============================] - 6s 8ms/step - loss: 0.6669 - acc: 0.7275 - val_loss: 0.6804 - val_acc: 0.7090\n",
      "Epoch 7/80\n",
      "756/756 [==============================] - 6s 8ms/step - loss: 0.6746 - acc: 0.7037 - val_loss: 0.8218 - val_acc: 0.6296\n",
      "Epoch 8/80\n",
      "756/756 [==============================] - 6s 8ms/step - loss: 0.6694 - acc: 0.7037 - val_loss: 0.7131 - val_acc: 0.7090\n",
      "Epoch 9/80\n",
      "756/756 [==============================] - 6s 8ms/step - loss: 0.6169 - acc: 0.7447 - val_loss: 0.7543 - val_acc: 0.6878\n",
      "Epoch 10/80\n",
      "756/756 [==============================] - 6s 8ms/step - loss: 0.5890 - acc: 0.7566 - val_loss: 0.6567 - val_acc: 0.7196\n",
      "Epoch 11/80\n",
      "756/756 [==============================] - 6s 8ms/step - loss: 0.5575 - acc: 0.7526 - val_loss: 0.6491 - val_acc: 0.7302\n",
      "Epoch 12/80\n",
      "756/756 [==============================] - 6s 8ms/step - loss: 0.5572 - acc: 0.7778 - val_loss: 0.6248 - val_acc: 0.7302\n",
      "Epoch 13/80\n",
      "756/756 [==============================] - 6s 8ms/step - loss: 0.5504 - acc: 0.7606 - val_loss: 0.6936 - val_acc: 0.7302\n",
      "Epoch 14/80\n",
      "756/756 [==============================] - 6s 8ms/step - loss: 0.5958 - acc: 0.7632 - val_loss: 0.6441 - val_acc: 0.7407\n",
      "Epoch 15/80\n",
      "756/756 [==============================] - 6s 8ms/step - loss: 0.4827 - acc: 0.8056 - val_loss: 0.6442 - val_acc: 0.7302\n",
      "Epoch 16/80\n",
      "756/756 [==============================] - 6s 8ms/step - loss: 0.4756 - acc: 0.7989 - val_loss: 0.6134 - val_acc: 0.7037\n",
      "Epoch 17/80\n",
      "756/756 [==============================] - 6s 8ms/step - loss: 0.4541 - acc: 0.8148 - val_loss: 0.6337 - val_acc: 0.7513\n",
      "Epoch 18/80\n",
      "756/756 [==============================] - 6s 8ms/step - loss: 0.4115 - acc: 0.8267 - val_loss: 0.6364 - val_acc: 0.7249\n",
      "Epoch 19/80\n",
      "756/756 [==============================] - 6s 8ms/step - loss: 0.4032 - acc: 0.8505 - val_loss: 0.8461 - val_acc: 0.6614\n",
      "Epoch 20/80\n",
      "756/756 [==============================] - 6s 8ms/step - loss: 0.4256 - acc: 0.8188 - val_loss: 0.6268 - val_acc: 0.7513\n",
      "Epoch 21/80\n",
      "756/756 [==============================] - 6s 8ms/step - loss: 0.4118 - acc: 0.8254 - val_loss: 0.6945 - val_acc: 0.7090\n",
      "Epoch 22/80\n",
      "756/756 [==============================] - 6s 8ms/step - loss: 0.3571 - acc: 0.8558 - val_loss: 0.7558 - val_acc: 0.7249\n",
      "Epoch 23/80\n",
      "756/756 [==============================] - 6s 8ms/step - loss: 0.3161 - acc: 0.8783 - val_loss: 0.5907 - val_acc: 0.7672\n",
      "Epoch 24/80\n",
      "756/756 [==============================] - 6s 8ms/step - loss: 0.3588 - acc: 0.8466 - val_loss: 0.6383 - val_acc: 0.7672\n",
      "Epoch 25/80\n",
      "756/756 [==============================] - 6s 8ms/step - loss: 0.3186 - acc: 0.8810 - val_loss: 0.6009 - val_acc: 0.7619\n",
      "Epoch 26/80\n",
      "756/756 [==============================] - 6s 8ms/step - loss: 0.2732 - acc: 0.9127 - val_loss: 0.6359 - val_acc: 0.7407\n",
      "Epoch 27/80\n",
      "756/756 [==============================] - 6s 8ms/step - loss: 0.2918 - acc: 0.8862 - val_loss: 0.7296 - val_acc: 0.7090\n",
      "Epoch 28/80\n",
      "756/756 [==============================] - 6s 8ms/step - loss: 0.3074 - acc: 0.8876 - val_loss: 0.6409 - val_acc: 0.7619\n",
      "Epoch 29/80\n",
      "756/756 [==============================] - 6s 8ms/step - loss: 0.2602 - acc: 0.9048 - val_loss: 0.6867 - val_acc: 0.7460\n",
      "Epoch 30/80\n",
      "756/756 [==============================] - 6s 8ms/step - loss: 0.2570 - acc: 0.8995 - val_loss: 0.7092 - val_acc: 0.7460\n",
      "Epoch 31/80\n",
      "756/756 [==============================] - 6s 8ms/step - loss: 0.2223 - acc: 0.9246 - val_loss: 0.8883 - val_acc: 0.7196\n",
      "Epoch 32/80\n",
      "756/756 [==============================] - 6s 8ms/step - loss: 0.2335 - acc: 0.9206 - val_loss: 0.7856 - val_acc: 0.7143\n",
      "Epoch 33/80\n",
      "756/756 [==============================] - 6s 8ms/step - loss: 0.1904 - acc: 0.9286 - val_loss: 0.8558 - val_acc: 0.7196\n",
      "Epoch 34/80\n",
      "756/756 [==============================] - 6s 8ms/step - loss: 0.2155 - acc: 0.9286 - val_loss: 0.6815 - val_acc: 0.7672\n",
      "Epoch 35/80\n",
      "756/756 [==============================] - 6s 8ms/step - loss: 0.1453 - acc: 0.9590 - val_loss: 0.7103 - val_acc: 0.7619\n",
      "Epoch 36/80\n",
      "756/756 [==============================] - 6s 8ms/step - loss: 0.1733 - acc: 0.9405 - val_loss: 0.7055 - val_acc: 0.7566\n",
      "Epoch 37/80\n",
      "756/756 [==============================] - 6s 8ms/step - loss: 0.1478 - acc: 0.9511 - val_loss: 0.8273 - val_acc: 0.7460\n",
      "Epoch 38/80\n",
      "756/756 [==============================] - 6s 8ms/step - loss: 0.1302 - acc: 0.9696 - val_loss: 0.8676 - val_acc: 0.7249\n",
      "Epoch 39/80\n",
      "756/756 [==============================] - 6s 8ms/step - loss: 0.1824 - acc: 0.9365 - val_loss: 0.7259 - val_acc: 0.7566\n",
      "Epoch 40/80\n",
      "756/756 [==============================] - 6s 8ms/step - loss: 0.1575 - acc: 0.9511 - val_loss: 0.7668 - val_acc: 0.7672\n",
      "Epoch 41/80\n",
      "756/756 [==============================] - 6s 8ms/step - loss: 0.1867 - acc: 0.9471 - val_loss: 0.8558 - val_acc: 0.7672\n",
      "Epoch 42/80\n",
      "756/756 [==============================] - 6s 8ms/step - loss: 0.1757 - acc: 0.9444 - val_loss: 0.8741 - val_acc: 0.7302\n",
      "Epoch 43/80\n",
      "756/756 [==============================] - 6s 8ms/step - loss: 0.0905 - acc: 0.9828 - val_loss: 0.8169 - val_acc: 0.7407\n",
      "Epoch 44/80\n",
      "756/756 [==============================] - 6s 8ms/step - loss: 0.0811 - acc: 0.9788 - val_loss: 0.8527 - val_acc: 0.7566\n",
      "Epoch 45/80\n",
      "756/756 [==============================] - 6s 8ms/step - loss: 0.1057 - acc: 0.9696 - val_loss: 0.8735 - val_acc: 0.7460\n",
      "Epoch 46/80\n",
      "756/756 [==============================] - 6s 8ms/step - loss: 0.0819 - acc: 0.9802 - val_loss: 0.9028 - val_acc: 0.7460\n",
      "Epoch 47/80\n",
      "756/756 [==============================] - 6s 8ms/step - loss: 0.1078 - acc: 0.9643 - val_loss: 0.8728 - val_acc: 0.7513\n",
      "Epoch 48/80\n",
      "756/756 [==============================] - 6s 8ms/step - loss: 0.0568 - acc: 0.9894 - val_loss: 0.9419 - val_acc: 0.7354\n",
      "Epoch 49/80\n",
      "756/756 [==============================] - 6s 8ms/step - loss: 0.0512 - acc: 0.9894 - val_loss: 1.2732 - val_acc: 0.7302\n",
      "Epoch 50/80\n",
      "756/756 [==============================] - 6s 8ms/step - loss: 0.0879 - acc: 0.9709 - val_loss: 1.2840 - val_acc: 0.6984\n",
      "Epoch 51/80\n",
      "756/756 [==============================] - 6s 8ms/step - loss: 0.0709 - acc: 0.9828 - val_loss: 1.1202 - val_acc: 0.7090\n",
      "Epoch 52/80\n",
      "756/756 [==============================] - 6s 8ms/step - loss: 0.0913 - acc: 0.9683 - val_loss: 1.0146 - val_acc: 0.7354\n",
      "Epoch 53/80\n",
      "756/756 [==============================] - 6s 8ms/step - loss: 0.0402 - acc: 0.9921 - val_loss: 0.9919 - val_acc: 0.7460\n",
      "Epoch 54/80\n",
      "756/756 [==============================] - 6s 8ms/step - loss: 0.0329 - acc: 0.9974 - val_loss: 1.1348 - val_acc: 0.7143\n",
      "Epoch 55/80\n",
      "756/756 [==============================] - 6s 8ms/step - loss: 0.0407 - acc: 0.9868 - val_loss: 1.0076 - val_acc: 0.7354\n",
      "Epoch 56/80\n",
      "756/756 [==============================] - 6s 8ms/step - loss: 0.0381 - acc: 0.9921 - val_loss: 0.9992 - val_acc: 0.7513\n",
      "Epoch 57/80\n",
      "756/756 [==============================] - 6s 8ms/step - loss: 0.0295 - acc: 0.9960 - val_loss: 1.0671 - val_acc: 0.7619\n",
      "Epoch 58/80\n",
      "756/756 [==============================] - 6s 8ms/step - loss: 0.0246 - acc: 0.9974 - val_loss: 1.2092 - val_acc: 0.7513\n",
      "Epoch 59/80\n",
      "756/756 [==============================] - 6s 8ms/step - loss: 0.0324 - acc: 0.9960 - val_loss: 1.1644 - val_acc: 0.7354\n",
      "Epoch 60/80\n",
      "756/756 [==============================] - 6s 8ms/step - loss: 0.0231 - acc: 0.9987 - val_loss: 1.1124 - val_acc: 0.7460\n",
      "Epoch 61/80\n",
      "756/756 [==============================] - 6s 8ms/step - loss: 0.0683 - acc: 0.9841 - val_loss: 1.5113 - val_acc: 0.7460\n",
      "Epoch 62/80\n",
      "756/756 [==============================] - 6s 8ms/step - loss: 0.0359 - acc: 0.9947 - val_loss: 1.0524 - val_acc: 0.7460\n",
      "Epoch 63/80\n",
      "756/756 [==============================] - 6s 8ms/step - loss: 0.0160 - acc: 1.0000 - val_loss: 1.1410 - val_acc: 0.7407\n",
      "Epoch 64/80\n",
      "756/756 [==============================] - 6s 8ms/step - loss: 0.0189 - acc: 0.9974 - val_loss: 1.1387 - val_acc: 0.7354\n",
      "Epoch 65/80\n",
      "756/756 [==============================] - 6s 8ms/step - loss: 0.0138 - acc: 1.0000 - val_loss: 1.1312 - val_acc: 0.7407\n",
      "Epoch 66/80\n",
      "756/756 [==============================] - 6s 8ms/step - loss: 0.0141 - acc: 1.0000 - val_loss: 1.1753 - val_acc: 0.7513\n",
      "Epoch 67/80\n",
      "756/756 [==============================] - 6s 8ms/step - loss: 0.0109 - acc: 1.0000 - val_loss: 1.1576 - val_acc: 0.7460\n",
      "Epoch 68/80\n",
      "756/756 [==============================] - 6s 8ms/step - loss: 0.0771 - acc: 0.9802 - val_loss: 1.6613 - val_acc: 0.7302\n",
      "Epoch 69/80\n",
      "756/756 [==============================] - 6s 8ms/step - loss: 0.0834 - acc: 0.9696 - val_loss: 1.1976 - val_acc: 0.7513\n",
      "Epoch 70/80\n",
      "756/756 [==============================] - 6s 8ms/step - loss: 0.0116 - acc: 1.0000 - val_loss: 1.1865 - val_acc: 0.7513\n",
      "Epoch 71/80\n",
      "756/756 [==============================] - 6s 8ms/step - loss: 0.0131 - acc: 1.0000 - val_loss: 1.2120 - val_acc: 0.7566\n",
      "Epoch 72/80\n",
      "756/756 [==============================] - 6s 8ms/step - loss: 0.0112 - acc: 1.0000 - val_loss: 1.2268 - val_acc: 0.7407\n",
      "Epoch 73/80\n",
      "756/756 [==============================] - 6s 8ms/step - loss: 0.0092 - acc: 1.0000 - val_loss: 1.2545 - val_acc: 0.7513\n",
      "Epoch 74/80\n",
      "756/756 [==============================] - 6s 8ms/step - loss: 0.0092 - acc: 1.0000 - val_loss: 1.2357 - val_acc: 0.7460\n",
      "Epoch 75/80\n",
      "756/756 [==============================] - 6s 8ms/step - loss: 0.0072 - acc: 1.0000 - val_loss: 1.2590 - val_acc: 0.7460\n",
      "Epoch 76/80\n",
      "756/756 [==============================] - 6s 8ms/step - loss: 0.0069 - acc: 1.0000 - val_loss: 1.2538 - val_acc: 0.7619\n",
      "Epoch 77/80\n",
      "756/756 [==============================] - 6s 8ms/step - loss: 0.0066 - acc: 1.0000 - val_loss: 1.2744 - val_acc: 0.7513\n",
      "Epoch 78/80\n",
      "756/756 [==============================] - 6s 8ms/step - loss: 0.0068 - acc: 1.0000 - val_loss: 1.2770 - val_acc: 0.7566\n",
      "Epoch 79/80\n",
      "756/756 [==============================] - 6s 8ms/step - loss: 0.0060 - acc: 1.0000 - val_loss: 1.2895 - val_acc: 0.7725\n",
      "Epoch 80/80\n",
      "756/756 [==============================] - 6s 8ms/step - loss: 0.0060 - acc: 1.0000 - val_loss: 1.3014 - val_acc: 0.7407\n"
     ]
    }
   ],
   "source": [
    "from keras.utils import to_categorical\n",
    "from keras import optimizers\n",
    "\n",
    "sgd = optimizers.SGD()\n",
    "\n",
    "model.compile(loss=\"categorical_crossentropy\",  optimizer=sgd, metrics=['acc'])\n",
    "\n",
    "model.summary()\n",
    "\n",
    "history = model.fit(np.asarray(X_train), \n",
    "                      to_categorical(y_train), \n",
    "                      epochs=80, \n",
    "                      verbose=1, \n",
    "                      batch_size=12,\n",
    "                      validation_data=(np.asarray(X_test), to_categorical(y_test)))"
   ]
  },
  {
   "cell_type": "code",
   "execution_count": 79,
   "metadata": {
    "collapsed": false
   },
   "outputs": [
    {
     "data": {
      "text/plain": [
       "array([[210,   0,   0],\n",
       "       [  0, 231,   0],\n",
       "       [  0,   0, 315]])"
      ]
     },
     "execution_count": 79,
     "metadata": {},
     "output_type": "execute_result"
    }
   ],
   "source": [
    "pred=model.predict_classes(np.asarray(X_train))\n",
    "cm=confusion_matrix(y_train, pred)\n",
    "cm"
   ]
  },
  {
   "cell_type": "code",
   "execution_count": 77,
   "metadata": {
    "collapsed": false,
    "scrolled": true
   },
   "outputs": [
    {
     "name": "stdout",
     "output_type": "stream",
     "text": [
      "Confusion matrix, without normalization\n",
      "[[210   0   0]\n",
      " [  0 231   0]\n",
      " [  0   0 315]]\n"
     ]
    }
   ],
   "source": [
    "plot_confusion_matrix(cm, classes=[\"big_cities\", \"forest\", \"beaches\"],\n",
    "                      title='Confusion matrix, without normalization')\n",
    "plt.show()"
   ]
  },
  {
   "cell_type": "code",
   "execution_count": 81,
   "metadata": {
    "collapsed": false
   },
   "outputs": [
    {
     "name": "stdout",
     "output_type": "stream",
     "text": [
      " Accuracy:  1.0\n"
     ]
    }
   ],
   "source": [
    "print \"Accuracy: \", sum(cm.diagonal())/float(len(X_train))"
   ]
  },
  {
   "cell_type": "code",
   "execution_count": 72,
   "metadata": {
    "collapsed": false
   },
   "outputs": [
    {
     "data": {
      "text/plain": [
       "array([[32,  6, 11],\n",
       "       [ 9, 47,  5],\n",
       "       [15,  3, 61]])"
      ]
     },
     "execution_count": 72,
     "metadata": {},
     "output_type": "execute_result"
    }
   ],
   "source": [
    "pred=model.predict_classes(np.asarray(X_test))\n",
    "cm=confusion_matrix(y_test, pred)\n",
    "cm"
   ]
  },
  {
   "cell_type": "code",
   "execution_count": 73,
   "metadata": {
    "collapsed": false
   },
   "outputs": [
    {
     "name": "stdout",
     "output_type": "stream",
     "text": [
      "Confusion matrix, without normalization\n",
      "[[32  6 11]\n",
      " [ 9 47  5]\n",
      " [15  3 61]]\n"
     ]
    }
   ],
   "source": [
    "plot_confusion_matrix(cm, classes=[\"big_cities\", \"forest\", \"beaches\"],\n",
    "                      title='Confusion matrix, without normalization')\n",
    "plt.show()"
   ]
  },
  {
   "cell_type": "code",
   "execution_count": 74,
   "metadata": {
    "collapsed": false
   },
   "outputs": [
    {
     "name": "stdout",
     "output_type": "stream",
     "text": [
      "Accuracy:  0.7407407407407407\n"
     ]
    }
   ],
   "source": [
    "print \"Accuracy: \", sum(cm.diagonal())/float(len(X_test))"
   ]
  },
  {
   "cell_type": "code",
   "execution_count": null,
   "metadata": {
    "collapsed": true
   },
   "outputs": [],
   "source": []
  }
 ],
 "metadata": {
  "kernelspec": {
   "display_name": "Python 2",
   "language": "python",
   "name": "python2"
  },
  "language_info": {
   "codemirror_mode": {
    "name": "ipython",
    "version": 2
   },
   "file_extension": ".py",
   "mimetype": "text/x-python",
   "name": "python",
   "nbconvert_exporter": "python",
   "pygments_lexer": "ipython2",
   "version": "2.7.12"
  }
 },
 "nbformat": 4,
 "nbformat_minor": 0
}
