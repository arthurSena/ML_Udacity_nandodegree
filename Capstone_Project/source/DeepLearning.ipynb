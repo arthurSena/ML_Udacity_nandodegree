{
 "cells": [
  {
   "cell_type": "code",
   "execution_count": 1,
   "metadata": {
    "collapsed": false
   },
   "outputs": [
    {
     "name": "stderr",
     "output_type": "stream",
     "text": [
      "Using TensorFlow backend.\n"
     ]
    }
   ],
   "source": [
    "'''\n",
    "- The model described in the Report.pdf file was created using the below seeds. Thus, if you want to \n",
    "reproduce the same model keep the same seeds.\n",
    "'''\n",
    "import numpy as np\n",
    "import tensorflow as tf\n",
    "import random as rn\n",
    "\n",
    "import os\n",
    "os.environ['PYTHONHASHSEED'] = '0'\n",
    "\n",
    "np.random.seed(5)\n",
    "\n",
    "rn.seed(6)\n",
    "\n",
    "session_conf = tf.ConfigProto(intra_op_parallelism_threads=1, inter_op_parallelism_threads=1)\n",
    "\n",
    "from keras import backend as K\n",
    "\n",
    "tf.set_random_seed(7)\n",
    "\n",
    "sess = tf.Session(graph=tf.get_default_graph(), config=session_conf)\n",
    "K.set_session(sess)"
   ]
  },
  {
   "cell_type": "code",
   "execution_count": 2,
   "metadata": {
    "collapsed": false
   },
   "outputs": [
    {
     "data": {
      "text/plain": [
       "'/home/arthur/Desktop/Projeto_final/'"
      ]
     },
     "execution_count": 2,
     "metadata": {},
     "output_type": "execute_result"
    }
   ],
   "source": [
    "os.getcwd()[:-6]"
   ]
  },
  {
   "cell_type": "code",
   "execution_count": 2,
   "metadata": {
    "collapsed": false
   },
   "outputs": [
    {
     "name": "stderr",
     "output_type": "stream",
     "text": [
      "/usr/lib/python2.7/dist-packages/matplotlib/font_manager.py:273: UserWarning: Matplotlib is building the font cache using fc-list. This may take a moment.\n",
      "  warnings.warn('Matplotlib is building the font cache using fc-list. This may take a moment.')\n"
     ]
    }
   ],
   "source": [
    "'''\n",
    "- Importing Libraries\n",
    "'''\n",
    "from PIL import Image\n",
    "import os\n",
    "import pandas as pd\n",
    "from sklearn.cross_validation import train_test_split\n",
    "from sklearn.metrics import confusion_matrix\n",
    "from plot_confusion_matrix import plot_confusion_matrix\n",
    "import matplotlib.pyplot as plt"
   ]
  },
  {
   "cell_type": "code",
   "execution_count": 3,
   "metadata": {
    "collapsed": false
   },
   "outputs": [],
   "source": [
    "'''\n",
    "- Importing Images\n",
    "'''\n",
    "\n",
    "from os import listdir\n",
    "from os.path import isfile, join\n",
    "\n",
    "\n",
    "BIG_CITIES = \"big.cities/\"\n",
    "BEACHES = \"beaches_n_resorts/\"\n",
    "FOREST = \"forest/\"\n",
    "\n",
    "data_path = os.getcwd()[:-6] + 'Data/'\n",
    "\n",
    "big_cities_path = data_path + BIG_CITIES\n",
    "forest_path = data_path + FOREST\n",
    "beaches_path = data_path + BEACHES\n",
    "\n",
    "big_cities_images = [Image.open(big_cities_path+img).resize((32,32),Image.ANTIALIAS)\n",
    "                         for img in listdir(big_cities_path)\n",
    "                             if Image.open(big_cities_path+img).size == (640,640)]\n",
    "\n",
    "forest_images = [Image.open(forest_path+img).resize((32,32), Image.ANTIALIAS)\n",
    "                         for img in listdir(forest_path)\n",
    "                             if Image.open(forest_path+img).size == (640,640)]\n",
    "\n",
    "beaches_images = [Image.open(beaches_path+img).resize((32,32), Image.ANTIALIAS)\n",
    "                         for img in listdir(beaches_path)\n",
    "                             if Image.open(beaches_path+img).size == (640,640)]"
   ]
  },
  {
   "cell_type": "code",
   "execution_count": 4,
   "metadata": {
    "collapsed": false
   },
   "outputs": [],
   "source": [
    "'''\n",
    "- Normalize all pixels between 0 and 1\n",
    "'''\n",
    "\n",
    "big_cities_images = [np.asarray(i)/255. for i in big_cities_images]\n",
    "forest_images = [np.asarray(i)/255. for i in forest_images]\n",
    "beaches_images = [np.asarray(i)/255. for i in beaches_images]"
   ]
  },
  {
   "cell_type": "code",
   "execution_count": 5,
   "metadata": {
    "collapsed": false
   },
   "outputs": [],
   "source": [
    "'''\n",
    "- Creating labels\n",
    "    * 0 means Urban\n",
    "    * 1 means Forests\n",
    "    * 2 means Beaches\n",
    "'''\n",
    "big_cities_label = [0 for i in range(len(big_cities_images))]\n",
    "forest_label = [1 for i in range(len(forest_images))]\n",
    "beaches_label = [2 for i in range(len(beaches_images))]"
   ]
  },
  {
   "cell_type": "code",
   "execution_count": 6,
   "metadata": {
    "collapsed": false
   },
   "outputs": [],
   "source": [
    "'''\n",
    "- Creating our pandas dataframe\n",
    "'''\n",
    "data = pd.DataFrame({\"Features\": big_cities_images + forest_images + beaches_images,\n",
    "                     \"Label\"   : big_cities_label+ forest_label + beaches_label\n",
    "                    })\n",
    "\n",
    "X_all = list(data[\"Features\"])\n",
    "y_all = list(data[\"Label\"])"
   ]
  },
  {
   "cell_type": "code",
   "execution_count": 7,
   "metadata": {
    "collapsed": false
   },
   "outputs": [],
   "source": [
    "'''\n",
    "- Spliting into train and test\n",
    "'''\n",
    "\n",
    "X_train, X_test, y_train, y_test = train_test_split(X_all, y_all, test_size=0.2, random_state=11)"
   ]
  },
  {
   "cell_type": "code",
   "execution_count": 8,
   "metadata": {
    "collapsed": false
   },
   "outputs": [],
   "source": [
    "'''\n",
    "- Building our model\n",
    "'''\n",
    "\n",
    "from keras.models import Sequential\n",
    "from keras.layers import Dense, Flatten, Dropout\n",
    "model = Sequential()\n",
    "model.add(Dense(units=500,activation=\"relu\",input_shape=(32,32,3)))\n",
    "model.add(Dropout(0.2))\n",
    "model.add(Dense(units=300,activation=\"relu\",input_shape=(32,32,3)))\n",
    "model.add(Dropout(0.2))\n",
    "model.add(Dense(units=100,activation=\"relu\",input_shape=(32,32,3)))\n",
    "model.add(Dropout(0.2))\n",
    "model.add(Flatten())\n",
    "model.add(Dense(units=3,activation=\"softmax\"))\n"
   ]
  },
  {
   "cell_type": "code",
   "execution_count": 9,
   "metadata": {
    "collapsed": false,
    "scrolled": true
   },
   "outputs": [
    {
     "name": "stdout",
     "output_type": "stream",
     "text": [
      "_________________________________________________________________\n",
      "Layer (type)                 Output Shape              Param #   \n",
      "=================================================================\n",
      "dense_1 (Dense)              (None, 32, 32, 500)       2000      \n",
      "_________________________________________________________________\n",
      "dropout_1 (Dropout)          (None, 32, 32, 500)       0         \n",
      "_________________________________________________________________\n",
      "dense_2 (Dense)              (None, 32, 32, 300)       150300    \n",
      "_________________________________________________________________\n",
      "dropout_2 (Dropout)          (None, 32, 32, 300)       0         \n",
      "_________________________________________________________________\n",
      "dense_3 (Dense)              (None, 32, 32, 100)       30100     \n",
      "_________________________________________________________________\n",
      "dropout_3 (Dropout)          (None, 32, 32, 100)       0         \n",
      "_________________________________________________________________\n",
      "flatten_1 (Flatten)          (None, 102400)            0         \n",
      "_________________________________________________________________\n",
      "dense_4 (Dense)              (None, 3)                 307203    \n",
      "=================================================================\n",
      "Total params: 489,603\n",
      "Trainable params: 489,603\n",
      "Non-trainable params: 0\n",
      "_________________________________________________________________\n",
      "Train on 756 samples, validate on 189 samples\n",
      "Epoch 1/24\n",
      " - 54s - loss: 0.9898 - acc: 0.4563 - val_loss: 0.9068 - val_acc: 0.5132\n",
      "Epoch 2/24\n",
      " - 54s - loss: 0.8554 - acc: 0.6138 - val_loss: 0.7861 - val_acc: 0.6667\n",
      "Epoch 3/24\n",
      " - 54s - loss: 0.7885 - acc: 0.6468 - val_loss: 0.7470 - val_acc: 0.6667\n",
      "Epoch 4/24\n",
      " - 54s - loss: 0.7520 - acc: 0.6667 - val_loss: 0.7251 - val_acc: 0.6878\n",
      "Epoch 5/24\n",
      " - 54s - loss: 0.7251 - acc: 0.6839 - val_loss: 0.7075 - val_acc: 0.6931\n",
      "Epoch 6/24\n",
      " - 54s - loss: 0.6925 - acc: 0.7063 - val_loss: 0.6919 - val_acc: 0.6984\n",
      "Epoch 7/24\n",
      " - 54s - loss: 0.6724 - acc: 0.7183 - val_loss: 0.6823 - val_acc: 0.7037\n",
      "Epoch 8/24\n",
      " - 54s - loss: 0.6463 - acc: 0.7302 - val_loss: 0.6733 - val_acc: 0.7090\n",
      "Epoch 9/24\n",
      " - 55s - loss: 0.6232 - acc: 0.7354 - val_loss: 0.6641 - val_acc: 0.7143\n",
      "Epoch 10/24\n",
      " - 54s - loss: 0.5969 - acc: 0.7500 - val_loss: 0.6615 - val_acc: 0.7196\n",
      "Epoch 11/24\n",
      " - 54s - loss: 0.5744 - acc: 0.7500 - val_loss: 0.6569 - val_acc: 0.7249\n",
      "Epoch 12/24\n",
      " - 55s - loss: 0.5515 - acc: 0.7712 - val_loss: 0.6502 - val_acc: 0.7249\n",
      "Epoch 13/24\n",
      " - 55s - loss: 0.5213 - acc: 0.7870 - val_loss: 0.6476 - val_acc: 0.7143\n",
      "Epoch 14/24\n",
      " - 53s - loss: 0.5028 - acc: 0.8016 - val_loss: 0.6467 - val_acc: 0.7196\n",
      "Epoch 15/24\n",
      " - 53s - loss: 0.4746 - acc: 0.8042 - val_loss: 0.6409 - val_acc: 0.7354\n",
      "Epoch 16/24\n",
      " - 53s - loss: 0.4502 - acc: 0.8254 - val_loss: 0.6412 - val_acc: 0.7407\n",
      "Epoch 17/24\n",
      " - 54s - loss: 0.4246 - acc: 0.8333 - val_loss: 0.6315 - val_acc: 0.7354\n",
      "Epoch 18/24\n",
      " - 53s - loss: 0.3977 - acc: 0.8452 - val_loss: 0.6349 - val_acc: 0.7460\n",
      "Epoch 19/24\n",
      " - 774s - loss: 0.3805 - acc: 0.8611 - val_loss: 0.6384 - val_acc: 0.7513\n",
      "Epoch 20/24\n",
      " - 66s - loss: 0.3524 - acc: 0.8730 - val_loss: 0.6393 - val_acc: 0.7619\n",
      "Epoch 21/24\n",
      " - 67s - loss: 0.3373 - acc: 0.8796 - val_loss: 0.6414 - val_acc: 0.7672\n",
      "Epoch 22/24\n",
      " - 71s - loss: 0.3214 - acc: 0.8929 - val_loss: 0.6374 - val_acc: 0.7566\n",
      "Epoch 23/24\n",
      " - 67s - loss: 0.2870 - acc: 0.9034 - val_loss: 0.6614 - val_acc: 0.7619\n",
      "Epoch 24/24\n",
      " - 58s - loss: 0.2700 - acc: 0.9074 - val_loss: 0.6778 - val_acc: 0.7725\n"
     ]
    }
   ],
   "source": [
    "'''\n",
    "- Train model\n",
    "'''\n",
    "\n",
    "from keras.utils import to_categorical\n",
    "from keras import optimizers\n",
    "\n",
    "sgd = optimizers.SGD()\n",
    "\n",
    "model.compile(loss=\"categorical_crossentropy\",  optimizer=sgd, metrics=['acc'])\n",
    "\n",
    "model.summary()\n",
    "\n",
    "history = model.fit(np.asarray(X_train), \n",
    "                      to_categorical(y_train), \n",
    "                      epochs=24, \n",
    "                      verbose=2, \n",
    "                      batch_size=12,\n",
    "                      shuffle=False,\n",
    "                      validation_data=(np.asarray(X_test), to_categorical(y_test)))"
   ]
  },
  {
   "cell_type": "code",
   "execution_count": 10,
   "metadata": {
    "collapsed": false
   },
   "outputs": [],
   "source": [
    "'''\n",
    "- Plotting loss over the train epochs\n",
    "'''\n",
    "import matplotlib.pyplot as plt\n",
    "plt.plot(history.history['loss'], label=\"train loss\")\n",
    "plt.plot(history.history['val_loss'],label=\"val loss\")\n",
    "plt.legend()\n",
    "plt.ylabel('Loss')\n",
    "plt.xlabel('Iteration')\n",
    "plt.show()"
   ]
  },
  {
   "cell_type": "code",
   "execution_count": 11,
   "metadata": {
    "collapsed": false
   },
   "outputs": [
    {
     "name": "stdout",
     "output_type": "stream",
     "text": [
      "Confusion matrix, without normalization\n",
      "[[135  49  26]\n",
      " [  0 230   1]\n",
      " [  0   9 306]]\n"
     ]
    }
   ],
   "source": [
    "'''\n",
    "- Applying model to the train dataset\n",
    "'''\n",
    "pred=model.predict_classes(np.asarray(X_train))\n",
    "cm=confusion_matrix(y_train, pred)\n",
    "\n",
    "acc = int(sum(cm.diagonal())/float(len(X_train))*100)\n",
    "plot_confusion_matrix(cm, classes=[\"big_cities\", \"forest\", \"beaches\"],\n",
    "                      title='Confusion matrix, Accuracy: {}%'.format(acc))\n",
    "plt.show()"
   ]
  },
  {
   "cell_type": "code",
   "execution_count": 12,
   "metadata": {
    "collapsed": false
   },
   "outputs": [
    {
     "name": "stdout",
     "output_type": "stream",
     "text": [
      "Accuracy:  0.8875661375661376\n"
     ]
    }
   ],
   "source": [
    "print \"Accuracy: \", sum(cm.diagonal())/float(len(X_train))"
   ]
  },
  {
   "cell_type": "code",
   "execution_count": 19,
   "metadata": {
    "collapsed": false
   },
   "outputs": [
    {
     "name": "stdout",
     "output_type": "stream",
     "text": [
      "Confusion matrix, without normalization\n",
      "[[20 13 16]\n",
      " [ 0 57  4]\n",
      " [ 3  7 69]]\n"
     ]
    }
   ],
   "source": [
    "'''\n",
    "- Applying model to the test dataset\n",
    "'''\n",
    "\n",
    "pred=model.predict_classes(np.asarray(X_test))\n",
    "cm=confusion_matrix(y_test, pred)\n",
    "test_acc = int(sum(cm.diagonal())/float(len(X_test))*100)\n",
    "plot_confusion_matrix(cm, classes=[\"big_cities\", \"forest\", \"beaches\"],\n",
    "                      title='Confusion matrix, Accuracy: {}%'.format(test_acc))\n",
    "plt.show()"
   ]
  },
  {
   "cell_type": "code",
   "execution_count": 14,
   "metadata": {
    "collapsed": false
   },
   "outputs": [
    {
     "name": "stdout",
     "output_type": "stream",
     "text": [
      "Accuracy:  0.7724867724867724\n"
     ]
    }
   ],
   "source": [
    "print \"Accuracy: \", sum(cm.diagonal())/float(len(X_test)) #before 73%"
   ]
  },
  {
   "cell_type": "code",
   "execution_count": 20,
   "metadata": {
    "collapsed": true
   },
   "outputs": [],
   "source": [
    "'''\n",
    "- Ploting Recall by label\n",
    "'''\n",
    "recall_array = [float(cm[i][z])/sum(cm[i]) for i in xrange(len(cm)) for z in xrange(len(cm)) if i == z]\n",
    "fig, ax = plt.subplots()   \n",
    "barlist=plt.bar(range(3), recall_array)\n",
    "\n",
    "\n",
    "axes = plt.gca()\n",
    "axes.set_ylim([0.,1])\n",
    "\n",
    "barlist[0].set_color('grey')\n",
    "barlist[1].set_color('green')\n",
    "barlist[2].set_color('blue')\n",
    "plt.xticks([.5,1.5,2.5], [\"Urbano\", \"Floresta\", \"Praias\"])\n",
    "plt.title(\"Recall by label\")\n",
    "\n",
    "temp = 0\n",
    "for rect in barlist:\n",
    "    height = rect.get_height()\n",
    "    plt.text(rect.get_x() + rect.get_width()/2.0, height, round(recall_array[temp],2), ha='center', va='bottom')\n",
    "    temp += 1\n",
    "\n",
    "plt.show()"
   ]
  },
  {
   "cell_type": "code",
   "execution_count": 21,
   "metadata": {
    "collapsed": true
   },
   "outputs": [],
   "source": [
    "'''\n",
    "- Ploting Precision by label\n",
    "'''\n",
    "precision_array = [float(cm[i][z])/sum(cm)[i] for i in xrange(len(cm)) for z in xrange(len(cm)) if i == z]\n",
    "barlist=plt.bar(range(3), precision_array)\n",
    "barlist[0].set_color('grey')\n",
    "barlist[1].set_color('green')\n",
    "barlist[2].set_color('blue')\n",
    "plt.xticks([.5,1.5,2.5], [\"Urbano\", \"Floresta\", \"Praias\"])\n",
    "axes = plt.gca()\n",
    "axes.set_ylim([0.,1.])\n",
    "plt.title(\"Precision by label\")\n",
    "\n",
    "temp = 0\n",
    "for rect in barlist:\n",
    "    height = rect.get_height()\n",
    "    plt.text(rect.get_x() + rect.get_width()/2.0, height, round(precision_array[temp],2), ha='center', va='bottom')\n",
    "    temp += 1\n",
    "plt.show()"
   ]
  },
  {
   "cell_type": "code",
   "execution_count": 22,
   "metadata": {
    "collapsed": false
   },
   "outputs": [],
   "source": [
    "'''\n",
    "- Saving model\n",
    "'''\n",
    "model.save(\"models/dl_first_architecture.h5\")"
   ]
  }
 ],
 "metadata": {
  "kernelspec": {
   "display_name": "Python 2",
   "language": "python",
   "name": "python2"
  },
  "language_info": {
   "codemirror_mode": {
    "name": "ipython",
    "version": 2
   },
   "file_extension": ".py",
   "mimetype": "text/x-python",
   "name": "python",
   "nbconvert_exporter": "python",
   "pygments_lexer": "ipython2",
   "version": "2.7.12"
  }
 },
 "nbformat": 4,
 "nbformat_minor": 0
}
