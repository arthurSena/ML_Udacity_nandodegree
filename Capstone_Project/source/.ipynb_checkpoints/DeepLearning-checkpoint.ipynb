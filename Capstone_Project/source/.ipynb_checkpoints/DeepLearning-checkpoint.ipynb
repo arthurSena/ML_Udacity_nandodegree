{
 "cells": [
  {
   "cell_type": "code",
   "execution_count": 1,
   "metadata": {
    "collapsed": false
   },
   "outputs": [
    {
     "name": "stderr",
     "output_type": "stream",
     "text": [
      "/usr/lib/python2.7/dist-packages/matplotlib/font_manager.py:273: UserWarning: Matplotlib is building the font cache using fc-list. This may take a moment.\n",
      "  warnings.warn('Matplotlib is building the font cache using fc-list. This may take a moment.')\n"
     ]
    }
   ],
   "source": [
    "import numpy as np\n",
    "from PIL import Image\n",
    "from sklearn.neighbors import KNeighborsClassifier\n",
    "import os\n",
    "import pandas as pd\n",
    "from sklearn.cross_validation import train_test_split\n",
    "from sklearn.metrics import confusion_matrix\n",
    "from plot_confusion_matrix import plot_confusion_matrix\n",
    "import matplotlib.pyplot as plt"
   ]
  },
  {
   "cell_type": "code",
   "execution_count": 20,
   "metadata": {
    "collapsed": false
   },
   "outputs": [],
   "source": [
    "from os import listdir\n",
    "from os.path import isfile, join\n",
    "\n",
    "\n",
    "BIG_CITIES = \"big.cities/\"\n",
    "BEACHES = \"beaches_n_resorts/\"\n",
    "FOREST = \"forest/\"\n",
    "\n",
    "data_path = os.getcwd()[:-6] + 'Data/'\n",
    "\n",
    "big_cities_path = data_path + BIG_CITIES\n",
    "forest_path = data_path + FOREST\n",
    "beaches_path = data_path + BEACHES\n",
    "\n",
    "big_cities_images = [Image.open(big_cities_path+img) \n",
    "                         for img in listdir(big_cities_path)\n",
    "                             if Image.open(big_cities_path+img).size == (640,640)]\n",
    "\n",
    "forest_images = [Image.open(forest_path+img) \n",
    "                         for img in listdir(forest_path)\n",
    "                             if Image.open(forest_path+img).size == (640,640)]\n",
    "\n",
    "beaches_images = [Image.open(beaches_path+img) \n",
    "                         for img in listdir(beaches_path)\n",
    "                             if Image.open(beaches_path+img).size == (640,640)]"
   ]
  },
  {
   "cell_type": "code",
   "execution_count": 21,
   "metadata": {
    "collapsed": true
   },
   "outputs": [],
   "source": [
    "beaches_hist = [img.histogram() for img in beaches_images]\n",
    "forest_hist = [img.histogram() for img in forest_images]\n",
    "big_cities_hist = [img.histogram() for img in big_cities_images]\n"
   ]
  },
  {
   "cell_type": "code",
   "execution_count": 22,
   "metadata": {
    "collapsed": true
   },
   "outputs": [],
   "source": [
    "def hist_sum_cumulative(hist, set_bin=10):\n",
    "    return [sum(hist[z:z+256][i:i+set_bin]) for z in xrange(0,768,256) for i in xrange(0,256,set_bin)]\n",
    "\n",
    "beaches_hist_cumlative = [hist_sum_cumulative(hist) for hist in beaches_hist]\n",
    "forest_hist_cumlative  =  [hist_sum_cumulative(hist) for hist in forest_hist]\n",
    "big_cities_hist_cumlative = [hist_sum_cumulative(hist) for hist in big_cities_hist]"
   ]
  },
  {
   "cell_type": "markdown",
   "metadata": {},
   "source": [
    "## Making some visualizations using the histogram by each class "
   ]
  },
  {
   "cell_type": "code",
   "execution_count": 23,
   "metadata": {
    "collapsed": false
   },
   "outputs": [],
   "source": [
    "beaches_hist_cumlative_mean = [sum(i)/len(i) for i in zip(*beaches_hist_cumlative)]\n",
    "forest_hist_cumlative_mean = [sum(i)/len(i) for i in zip(*forest_hist_cumlative)]\n",
    "big_cities_hist_cumlative_mean = [sum(i)/len(i) for i in zip(*big_cities_hist_cumlative)]"
   ]
  },
  {
   "cell_type": "code",
   "execution_count": 24,
   "metadata": {
    "collapsed": false
   },
   "outputs": [],
   "source": [
    "# import matplotlib.pyplot as plt\n",
    "# hist = Image.open(beaches_path+'29095393_381193472357970_6309400991837978624_n.jpg').histogram()\n",
    "# red, green, blue = hist[0:256],hist[256:512],hist[512:768]"
   ]
  },
  {
   "cell_type": "code",
   "execution_count": 25,
   "metadata": {
    "collapsed": false
   },
   "outputs": [],
   "source": [
    "# red_sum_cumulative= [sum(red[i:i+10]) for i in xrange(0,len(red),10)]\n",
    "# gree_sum_cumulative= [sum(green[i:i+10]) for i in xrange(0,len(red),10)]\n",
    "# blue_sum_cumulative=[sum(blue[i:i+10]) for i in xrange(0,len(red),10)]"
   ]
  },
  {
   "cell_type": "markdown",
   "metadata": {},
   "source": [
    "## Beaches"
   ]
  },
  {
   "cell_type": "code",
   "execution_count": 27,
   "metadata": {
    "collapsed": false
   },
   "outputs": [],
   "source": [
    "beaches_red = beaches_hist_cumlative_mean[0:26]\n",
    "\n",
    "for i in range(0, 26):\n",
    "\n",
    "    plt.bar(i, beaches_red[i], color = \"red\",  alpha=0.3)\n",
    "\n",
    "plt.show()"
   ]
  },
  {
   "cell_type": "code",
   "execution_count": 28,
   "metadata": {
    "collapsed": false
   },
   "outputs": [],
   "source": [
    "beaches_green = beaches_hist_cumlative_mean[26:52]\n",
    "for i in range(0, 26):\n",
    "\n",
    "    plt.bar(i, beaches_green[i], color = \"green\",  alpha=0.3)\n",
    "\n",
    "plt.show()"
   ]
  },
  {
   "cell_type": "code",
   "execution_count": 29,
   "metadata": {
    "collapsed": false
   },
   "outputs": [],
   "source": [
    "beaches_blue = beaches_hist_cumlative_mean[52:78]\n",
    "for i in range(0, 26):\n",
    "\n",
    "    plt.bar(i, beaches_blue[i], color = \"blue\", alpha=0.3)\n",
    "\n",
    "plt.show()"
   ]
  },
  {
   "cell_type": "markdown",
   "metadata": {},
   "source": [
    "## Forest"
   ]
  },
  {
   "cell_type": "code",
   "execution_count": 30,
   "metadata": {
    "collapsed": true
   },
   "outputs": [],
   "source": [
    "forest_red = forest_hist_cumlative_mean[0:26]\n",
    "\n",
    "for i in range(0, len(forest_red)):\n",
    "\n",
    "    plt.bar(i, forest_red[i], color = \"red\",  alpha=0.3)\n",
    "\n",
    "plt.show()"
   ]
  },
  {
   "cell_type": "code",
   "execution_count": 95,
   "metadata": {
    "collapsed": true
   },
   "outputs": [],
   "source": [
    "forest_green = forest_hist_cumlative_mean[26:52]\n",
    "\n",
    "for i in range(0, len(forest_green)):\n",
    "\n",
    "    plt.bar(i, forest_green[i], color = \"green\",  alpha=0.3)\n",
    "\n",
    "plt.show()"
   ]
  },
  {
   "cell_type": "code",
   "execution_count": 31,
   "metadata": {
    "collapsed": true
   },
   "outputs": [],
   "source": [
    "forest_blue = forest_hist_cumlative_mean[52:78]\n",
    "\n",
    "for i in range(0, len(forest_blue)):\n",
    "\n",
    "    plt.bar(i, forest_blue[i], color = \"blue\",  alpha=0.3)\n",
    "\n",
    "plt.show()"
   ]
  },
  {
   "cell_type": "markdown",
   "metadata": {},
   "source": [
    "## Cities"
   ]
  },
  {
   "cell_type": "code",
   "execution_count": 97,
   "metadata": {
    "collapsed": true
   },
   "outputs": [],
   "source": [
    "big_cities_red = big_cities_hist_cumlative_mean[0:26]\n",
    "\n",
    "for i in range(0, 26):\n",
    "\n",
    "    plt.bar(i, big_cities_red[i], color = \"red\",  alpha=0.3)\n",
    "\n",
    "plt.show()"
   ]
  },
  {
   "cell_type": "code",
   "execution_count": 98,
   "metadata": {
    "collapsed": true
   },
   "outputs": [],
   "source": [
    "big_cities_green = big_cities_hist_cumlative_mean[26:52]\n",
    "\n",
    "for i in range(0, 26):\n",
    "\n",
    "    plt.bar(i, big_cities_green[i], color = \"green\",  alpha=0.3)\n",
    "\n",
    "plt.show()"
   ]
  },
  {
   "cell_type": "code",
   "execution_count": 99,
   "metadata": {
    "collapsed": true
   },
   "outputs": [],
   "source": [
    "big_cities_blue = big_cities_hist_cumlative_mean[52:78]\n",
    "\n",
    "for i in range(0, 26):\n",
    "\n",
    "    plt.bar(i, big_cities_blue[i], color = \"blue\",  alpha=0.3)\n",
    "\n",
    "plt.show()"
   ]
  },
  {
   "cell_type": "code",
   "execution_count": 101,
   "metadata": {
    "collapsed": false
   },
   "outputs": [
    {
     "data": {
      "text/plain": [
       "(259, 394, 292)"
      ]
     },
     "execution_count": 101,
     "metadata": {},
     "output_type": "execute_result"
    }
   ],
   "source": [
    "len(big_cities_hist_cumlative), len(beaches_hist_cumlative), len(forest_hist_cumlative)"
   ]
  },
  {
   "cell_type": "code",
   "execution_count": 4,
   "metadata": {
    "collapsed": true
   },
   "outputs": [],
   "source": [
    "# big_cities_array = [np.array(img).flatten() for img in big_cities_images]\n",
    "# forest_array = [np.array(img).flatten() for img in forest_images]\n",
    "# beaches_array= [np.array(img).flatten() for img in beaches_images]"
   ]
  },
  {
   "cell_type": "code",
   "execution_count": 32,
   "metadata": {
    "collapsed": false
   },
   "outputs": [],
   "source": [
    "big_cities_label = [0 for i in range(len(big_cities_hist_cumlative))]\n",
    "forest_label = [1 for i in range(len(beaches_hist_cumlative))]\n",
    "beaches_label = [2 for i in range(len(forest_hist_cumlative))]"
   ]
  },
  {
   "cell_type": "code",
   "execution_count": 33,
   "metadata": {
    "collapsed": false
   },
   "outputs": [
    {
     "data": {
      "text/plain": [
       "(259, 394, 292)"
      ]
     },
     "execution_count": 33,
     "metadata": {},
     "output_type": "execute_result"
    }
   ],
   "source": [
    "len(big_cities_label), len(forest_label), len(beaches_label)"
   ]
  },
  {
   "cell_type": "code",
   "execution_count": 34,
   "metadata": {
    "collapsed": false
   },
   "outputs": [],
   "source": [
    "data = pd.DataFrame({\"Features\": big_cities_hist_cumlative + forest_hist_cumlative + beaches_hist_cumlative,\n",
    "                     \"Label\"   : big_cities_label+ forest_label + beaches_label\n",
    "                    })\n",
    "\n",
    "X_all = list(data[\"Features\"])\n",
    "y_all = list(data[\"Label\"])"
   ]
  },
  {
   "cell_type": "code",
   "execution_count": 35,
   "metadata": {
    "collapsed": false
   },
   "outputs": [],
   "source": [
    "X_train, X_test, y_train, y_test = train_test_split(X_all, y_all, test_size=0.2, random_state=11)\n"
   ]
  },
  {
   "cell_type": "code",
   "execution_count": 36,
   "metadata": {
    "collapsed": false,
    "scrolled": true
   },
   "outputs": [
    {
     "data": {
      "text/plain": [
       "(756, 756)"
      ]
     },
     "execution_count": 36,
     "metadata": {},
     "output_type": "execute_result"
    }
   ],
   "source": [
    "len(X_train), len(y_train)"
   ]
  },
  {
   "cell_type": "code",
   "execution_count": 37,
   "metadata": {
    "collapsed": false
   },
   "outputs": [
    {
     "data": {
      "text/plain": [
       "KNeighborsClassifier(algorithm='auto', leaf_size=30, metric='minkowski',\n",
       "           metric_params=None, n_jobs=1, n_neighbors=3, p=2,\n",
       "           weights='uniform')"
      ]
     },
     "execution_count": 37,
     "metadata": {},
     "output_type": "execute_result"
    }
   ],
   "source": [
    "knn = KNeighborsClassifier(n_neighbors=3)\n",
    "knn.fit(X_train, y_train)"
   ]
  },
  {
   "cell_type": "code",
   "execution_count": 38,
   "metadata": {
    "collapsed": false
   },
   "outputs": [
    {
     "data": {
      "text/plain": [
       "(189, 189)"
      ]
     },
     "execution_count": 38,
     "metadata": {},
     "output_type": "execute_result"
    }
   ],
   "source": [
    "len(X_test), len(y_test)"
   ]
  },
  {
   "cell_type": "code",
   "execution_count": 39,
   "metadata": {
    "collapsed": false
   },
   "outputs": [
    {
     "data": {
      "text/plain": [
       "array([[34,  5, 10],\n",
       "       [12, 60, 15],\n",
       "       [15,  7, 31]])"
      ]
     },
     "execution_count": 39,
     "metadata": {},
     "output_type": "execute_result"
    }
   ],
   "source": [
    "pred=knn.predict(X_test)\n",
    "cm=confusion_matrix(y_test, pred)\n",
    "cm"
   ]
  },
  {
   "cell_type": "code",
   "execution_count": 40,
   "metadata": {
    "collapsed": false,
    "scrolled": false
   },
   "outputs": [
    {
     "name": "stdout",
     "output_type": "stream",
     "text": [
      "Confusion matrix, without normalization\n",
      "[[34  5 10]\n",
      " [12 60 15]\n",
      " [15  7 31]]\n"
     ]
    }
   ],
   "source": [
    "plot_confusion_matrix(cm, classes=[\"big_cities\", \"forest\", \"beaches\"],\n",
    "                      title='Confusion matrix, without normalization')\n",
    "plt.show()"
   ]
  },
  {
   "cell_type": "code",
   "execution_count": 41,
   "metadata": {
    "collapsed": false
   },
   "outputs": [
    {
     "name": "stdout",
     "output_type": "stream",
     "text": [
      "Accuracy:  0.6613756613756614\n"
     ]
    }
   ],
   "source": [
    "print \"Accuracy: \", sum(cm.diagonal())/float(len(X_test))"
   ]
  }
 ],
 "metadata": {
  "kernelspec": {
   "display_name": "Python 2",
   "language": "python",
   "name": "python2"
  },
  "language_info": {
   "codemirror_mode": {
    "name": "ipython",
    "version": 2
   },
   "file_extension": ".py",
   "mimetype": "text/x-python",
   "name": "python",
   "nbconvert_exporter": "python",
   "pygments_lexer": "ipython2",
   "version": "2.7.12"
  }
 },
 "nbformat": 4,
 "nbformat_minor": 0
}
