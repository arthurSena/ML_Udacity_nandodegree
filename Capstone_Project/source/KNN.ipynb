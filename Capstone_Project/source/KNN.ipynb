{
 "cells": [
  {
   "cell_type": "code",
   "execution_count": 2,
   "metadata": {
    "collapsed": false
   },
   "outputs": [],
   "source": [
    "'''\n",
    " - Importing Libraries\n",
    "'''\n",
    "\n",
    "import numpy as np\n",
    "from PIL import Image\n",
    "from sklearn.neighbors import KNeighborsClassifier\n",
    "import os\n",
    "import pandas as pd\n",
    "from sklearn.cross_validation import train_test_split\n",
    "from sklearn.metrics import confusion_matrix\n",
    "from plot_confusion_matrix import plot_confusion_matrix\n",
    "import matplotlib.pyplot as plt"
   ]
  },
  {
   "cell_type": "code",
   "execution_count": 3,
   "metadata": {
    "collapsed": false
   },
   "outputs": [],
   "source": [
    "'''\n",
    " - Importing the Images\n",
    "'''\n",
    "\n",
    "from os import listdir\n",
    "from os.path import isfile, join\n",
    "\n",
    "\n",
    "BIG_CITIES = \"big.cities/\"\n",
    "BEACHES = \"beaches_n_resorts/\"\n",
    "FOREST = \"forest/\"\n",
    "\n",
    "data_path = os.getcwd()[:-6] + 'Data/'\n",
    "\n",
    "big_cities_path = data_path + BIG_CITIES\n",
    "forest_path = data_path + FOREST\n",
    "beaches_path = data_path + BEACHES\n",
    "\n",
    "big_cities_images = [Image.open(big_cities_path+img).resize((32,32),Image.ANTIALIAS)\n",
    "                         for img in listdir(big_cities_path)\n",
    "                             if Image.open(big_cities_path+img).size == (640,640)]\n",
    "\n",
    "forest_images = [Image.open(forest_path+img).resize((32,32), Image.ANTIALIAS)\n",
    "                         for img in listdir(forest_path)\n",
    "                             if Image.open(forest_path+img).size == (640,640)]\n",
    "\n",
    "beaches_images = [Image.open(beaches_path+img).resize((32,32), Image.ANTIALIAS)\n",
    "                         for img in listdir(beaches_path)\n",
    "                             if Image.open(beaches_path+img).size == (640,640)]"
   ]
  },
  {
   "cell_type": "code",
   "execution_count": 7,
   "metadata": {
    "collapsed": false
   },
   "outputs": [
    {
     "name": "stdout",
     "output_type": "stream",
     "text": [
      "Amount of Urban images:  259\n",
      "Amount of Forest images:  292\n",
      "Amount of Beaches images:  394\n"
     ]
    }
   ],
   "source": [
    "print \"Amount of Urban images: \", len(big_cities_images)\n",
    "print \"Amount of Forest images: \", len(forest_images)\n",
    "print \"Amount of Beaches images: \", len(beaches_images)"
   ]
  },
  {
   "cell_type": "code",
   "execution_count": 8,
   "metadata": {
    "collapsed": false
   },
   "outputs": [],
   "source": [
    "'''\n",
    "- Creating a histogram for each image\n",
    "'''\n",
    "\n",
    "beaches_hist = [img.histogram() for img in beaches_images]\n",
    "forest_hist = [img.histogram() for img in forest_images]\n",
    "big_cities_hist = [img.histogram() for img in big_cities_images]"
   ]
  },
  {
   "cell_type": "code",
   "execution_count": 9,
   "metadata": {
    "collapsed": false
   },
   "outputs": [],
   "source": [
    "'''\n",
    "- Because we dont have enough computional resources, we compress the histogram by setting a higher bin.\n",
    "- The function below does that. It gets each histogram calculates a new one based in a bin equals to ten.\n",
    "'''\n",
    "\n",
    "def hist_sum_cumulative(hist, set_bin=10):\n",
    "    return [sum(hist[z:z+256][i:i+set_bin]) for z in xrange(0,768,256) for i in xrange(0,256,set_bin)]\n",
    "\n",
    "beaches_hist_cumlative = [hist_sum_cumulative(hist) for hist in beaches_hist]\n",
    "forest_hist_cumlative  =  [hist_sum_cumulative(hist) for hist in forest_hist]\n",
    "big_cities_hist_cumlative = [hist_sum_cumulative(hist) for hist in big_cities_hist]"
   ]
  },
  {
   "cell_type": "markdown",
   "metadata": {},
   "source": [
    "## Making some visualizations using the histogram by each class "
   ]
  },
  {
   "cell_type": "code",
   "execution_count": 10,
   "metadata": {
    "collapsed": false
   },
   "outputs": [],
   "source": [
    "beaches_hist_cumlative_mean = [sum(i)/len(i) for i in zip(*beaches_hist_cumlative)]\n",
    "forest_hist_cumlative_mean = [sum(i)/len(i) for i in zip(*forest_hist_cumlative)]\n",
    "big_cities_hist_cumlative_mean = [sum(i)/len(i) for i in zip(*big_cities_hist_cumlative)]"
   ]
  },
  {
   "cell_type": "markdown",
   "metadata": {},
   "source": [
    "## Plotting Histogram for the beaches pictures"
   ]
  },
  {
   "cell_type": "code",
   "execution_count": 11,
   "metadata": {
    "collapsed": false
   },
   "outputs": [],
   "source": [
    "for i in range(0, 78):\n",
    "    if i <= 25:\n",
    "        plt.bar(i, beaches_hist_cumlative_mean[i], color = \"red\",  alpha=0.3)\n",
    "    elif i >= 26 and i <= 51:\n",
    "        plt.bar(i, beaches_hist_cumlative_mean[i], color = \"green\",  alpha=0.3)\n",
    "    else:\n",
    "         plt.bar(i, beaches_hist_cumlative_mean[i], color = \"blue\", alpha=0.3)\n",
    "plt.show()"
   ]
  },
  {
   "cell_type": "markdown",
   "metadata": {},
   "source": [
    "## Plotting Histogram for the Forest pictures"
   ]
  },
  {
   "cell_type": "code",
   "execution_count": 12,
   "metadata": {
    "collapsed": true
   },
   "outputs": [],
   "source": [
    "for i in range(0, 78):\n",
    "    if i <= 25:\n",
    "        plt.bar(i, forest_hist_cumlative_mean[i], color = \"red\",  alpha=0.3)\n",
    "    elif i >= 26 and i <= 51:\n",
    "        plt.bar(i, forest_hist_cumlative_mean[i], color = \"green\",  alpha=0.3)\n",
    "    else:\n",
    "         plt.bar(i, forest_hist_cumlative_mean[i], color = \"blue\", alpha=0.3)\n",
    "plt.show()"
   ]
  },
  {
   "cell_type": "markdown",
   "metadata": {},
   "source": [
    "## Cities"
   ]
  },
  {
   "cell_type": "code",
   "execution_count": 13,
   "metadata": {
    "collapsed": true
   },
   "outputs": [],
   "source": [
    "\n",
    "for i in range(0, 78):\n",
    "    if i <= 25:\n",
    "        plt.bar(i, big_cities_hist_cumlative_mean[i], color = \"red\",  alpha=0.3)\n",
    "    elif i >= 26 and i <= 51:\n",
    "        plt.bar(i, big_cities_hist_cumlative_mean[i], color = \"green\",  alpha=0.3)\n",
    "    else:\n",
    "         plt.bar(i, big_cities_hist_cumlative_mean[i], color = \"blue\", alpha=0.3)\n",
    "plt.show()"
   ]
  },
  {
   "cell_type": "code",
   "execution_count": 16,
   "metadata": {
    "collapsed": false
   },
   "outputs": [],
   "source": [
    "'''\n",
    "- Creating labels\n",
    "    * 0 means Urban\n",
    "    * 1 means Forests\n",
    "    * 2 means Beaches\n",
    "'''\n",
    "big_cities_label = [0 for i in range(len(big_cities_hist_cumlative))]\n",
    "forest_label = [1 for i in range(len(beaches_hist_cumlative))]\n",
    "beaches_label = [2 for i in range(len(forest_hist_cumlative))]"
   ]
  },
  {
   "cell_type": "markdown",
   "metadata": {},
   "source": [
    "## Going to Pandas DataFrame and Spliting into train and test"
   ]
  },
  {
   "cell_type": "code",
   "execution_count": 17,
   "metadata": {
    "collapsed": false
   },
   "outputs": [],
   "source": [
    "data = pd.DataFrame({\"Features\": big_cities_hist_cumlative + forest_hist_cumlative + beaches_hist_cumlative,\n",
    "                     \"Label\"   : big_cities_label+ forest_label + beaches_label\n",
    "                    })\n",
    "\n",
    "X_all = list(data[\"Features\"])\n",
    "y_all = list(data[\"Label\"])"
   ]
  },
  {
   "cell_type": "code",
   "execution_count": 18,
   "metadata": {
    "collapsed": false
   },
   "outputs": [],
   "source": [
    "X_train, X_test, y_train, y_test = train_test_split(X_all, y_all, test_size=0.2, random_state=11)\n"
   ]
  },
  {
   "cell_type": "code",
   "execution_count": 20,
   "metadata": {
    "collapsed": false,
    "scrolled": true
   },
   "outputs": [
    {
     "name": "stdout",
     "output_type": "stream",
     "text": [
      "Amount of train data: 756\n",
      "Amount of test data:  189\n"
     ]
    }
   ],
   "source": [
    "print \"Amount of train data:\", len(X_train)\n",
    "print \"Amount of test data: \", len(X_test)"
   ]
  },
  {
   "cell_type": "markdown",
   "metadata": {},
   "source": [
    "### Training our model"
   ]
  },
  {
   "cell_type": "code",
   "execution_count": 21,
   "metadata": {
    "collapsed": false,
    "scrolled": true
   },
   "outputs": [],
   "source": [
    "knn = KNeighborsClassifier()"
   ]
  },
  {
   "cell_type": "code",
   "execution_count": 22,
   "metadata": {
    "collapsed": false,
    "scrolled": true
   },
   "outputs": [
    {
     "data": {
      "text/plain": [
       "GridSearchCV(cv=None, error_score='raise',\n",
       "       estimator=KNeighborsClassifier(algorithm='auto', leaf_size=30, metric='minkowski',\n",
       "           metric_params=None, n_jobs=1, n_neighbors=5, p=2,\n",
       "           weights='uniform'),\n",
       "       fit_params={}, iid=True, n_jobs=1,\n",
       "       param_grid={'n_neighbors': [1, 2, 3, 4, 5, 6, 7, 8, 9, 10, 11, 12, 13, 14, 15], 'p': [1, 2, 3, 4, 5]},\n",
       "       pre_dispatch='2*n_jobs', refit=True, scoring=None, verbose=0)"
      ]
     },
     "execution_count": 22,
     "metadata": {},
     "output_type": "execute_result"
    }
   ],
   "source": [
    "from sklearn.grid_search import GridSearchCV\n",
    "clf = GridSearchCV(knn, {\"n_neighbors\": range(1, 16),\n",
    "                         \"p\": [1,2,3,4,5]})\n",
    "clf.fit(X_train, y_train)"
   ]
  },
  {
   "cell_type": "code",
   "execution_count": 25,
   "metadata": {
    "collapsed": false,
    "scrolled": true
   },
   "outputs": [
    {
     "name": "stdout",
     "output_type": "stream",
     "text": [
      "Best model settings: \n",
      "KNeighborsClassifier(algorithm='auto', leaf_size=30, metric='minkowski',\n",
      "           metric_params=None, n_jobs=1, n_neighbors=12, p=2,\n",
      "           weights='uniform')\n"
     ]
    }
   ],
   "source": [
    "print \"Best model settings: \\n\", clf.best_estimator_"
   ]
  },
  {
   "cell_type": "markdown",
   "metadata": {},
   "source": [
    "### Making prediction and evaluating results"
   ]
  },
  {
   "cell_type": "code",
   "execution_count": 27,
   "metadata": {
    "collapsed": false
   },
   "outputs": [
    {
     "name": "stdout",
     "output_type": "stream",
     "text": [
      "Confusion matrix, without normalization\n",
      "[[26 12 11]\n",
      " [13 52 22]\n",
      " [14  8 31]]\n"
     ]
    }
   ],
   "source": [
    "pred=clf.predict(X_test)\n",
    "cm=confusion_matrix(y_test, pred)\n",
    "acc = int(sum(cm.diagonal())/float(len(X_test))*100)\n",
    "plot_confusion_matrix(cm, classes=[\"big_cities\", \"forest\", \"beaches\"],\n",
    "                      title='Confusion matrix - Accuracy: {}%'.format(acc))\n",
    "plt.show()"
   ]
  },
  {
   "cell_type": "code",
   "execution_count": 30,
   "metadata": {
    "collapsed": true
   },
   "outputs": [],
   "source": [
    "'''\n",
    "- Ploting Recall by label\n",
    "'''\n",
    "recall_array = [float(cm[i][z])/sum(cm[i]) for i in xrange(len(cm)) for z in xrange(len(cm)) if i == z]\n",
    "fig, ax = plt.subplots()   \n",
    "barlist=plt.bar(range(3), recall_array)\n",
    "\n",
    "\n",
    "axes = plt.gca()\n",
    "axes.set_ylim([0.,1])\n",
    "\n",
    "barlist[0].set_color('grey')\n",
    "barlist[1].set_color('green')\n",
    "barlist[2].set_color('blue')\n",
    "plt.xticks([.5,1.5,2.5], [\"Urbano\", \"Floresta\", \"Praias\"])\n",
    "plt.title(\"Recall by label\")\n",
    "\n",
    "temp = 0\n",
    "for rect in barlist:\n",
    "    height = rect.get_height()\n",
    "    plt.text(rect.get_x() + rect.get_width()/2.0, height, round(recall_array[temp],2), ha='center', va='bottom')\n",
    "    temp += 1\n",
    "\n",
    "plt.show()"
   ]
  },
  {
   "cell_type": "code",
   "execution_count": 29,
   "metadata": {
    "collapsed": false,
    "scrolled": true
   },
   "outputs": [],
   "source": [
    "'''\n",
    "- Ploting Precision by label\n",
    "'''\n",
    "precision_array = [float(cm[i][z])/sum(cm)[i] for i in xrange(len(cm)) for z in xrange(len(cm)) if i == z]\n",
    "barlist=plt.bar(range(3), precision_array)\n",
    "barlist[0].set_color('grey')\n",
    "barlist[1].set_color('green')\n",
    "barlist[2].set_color('blue')\n",
    "plt.xticks([.5,1.5,2.5], [\"Urbano\", \"Floresta\", \"Praias\"])\n",
    "axes = plt.gca()\n",
    "axes.set_ylim([0.,1.])\n",
    "plt.title(\"Precision by label\")\n",
    "\n",
    "temp = 0\n",
    "for rect in barlist:\n",
    "    height = rect.get_height()\n",
    "    plt.text(rect.get_x() + rect.get_width()/2.0, height, round(precision_array[temp],2), ha='center', va='bottom')\n",
    "    temp += 1\n",
    "plt.show()"
   ]
  }
 ],
 "metadata": {
  "kernelspec": {
   "display_name": "Python 2",
   "language": "python",
   "name": "python2"
  },
  "language_info": {
   "codemirror_mode": {
    "name": "ipython",
    "version": 2
   },
   "file_extension": ".py",
   "mimetype": "text/x-python",
   "name": "python",
   "nbconvert_exporter": "python",
   "pygments_lexer": "ipython2",
   "version": "2.7.12"
  }
 },
 "nbformat": 4,
 "nbformat_minor": 0
}
